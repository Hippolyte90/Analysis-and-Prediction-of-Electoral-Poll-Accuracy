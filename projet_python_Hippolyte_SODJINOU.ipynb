{
 "cells": [
  {
   "cell_type": "markdown",
   "id": "f3aa5435-75e5-4269-87ea-32874a91ef14",
   "metadata": {},
   "source": [
    "Project \"Python for data science\"\n",
    "--"
   ]
  },
  {
   "cell_type": "markdown",
   "id": "d320749a-c575-4241-8f46-c7e042a73e68",
   "metadata": {},
   "source": [
    "### Data collection and preparation\r\n"
   ]
  },
  {
   "cell_type": "code",
   "execution_count": 1,
   "id": "e17d44bb-ec3d-49f7-a1bf-b0704b92b3eb",
   "metadata": {},
   "outputs": [
    {
     "name": "stdout",
     "output_type": "stream",
     "text": [
      "Requirement already satisfied: folium in c:\\users\\sodji\\anaconda3\\lib\\site-packages (0.19.4)\n",
      "Requirement already satisfied: branca>=0.6.0 in c:\\users\\sodji\\anaconda3\\lib\\site-packages (from folium) (0.8.1)\n",
      "Requirement already satisfied: jinja2>=2.9 in c:\\users\\sodji\\anaconda3\\lib\\site-packages (from folium) (3.1.4)\n",
      "Requirement already satisfied: numpy in c:\\users\\sodji\\anaconda3\\lib\\site-packages (from folium) (1.26.4)\n",
      "Requirement already satisfied: requests in c:\\users\\sodji\\anaconda3\\lib\\site-packages (from folium) (2.32.2)\n",
      "Requirement already satisfied: xyzservices in c:\\users\\sodji\\anaconda3\\lib\\site-packages (from folium) (2022.9.0)\n",
      "Requirement already satisfied: MarkupSafe>=2.0 in c:\\users\\sodji\\anaconda3\\lib\\site-packages (from jinja2>=2.9->folium) (2.1.3)\n",
      "Requirement already satisfied: charset-normalizer<4,>=2 in c:\\users\\sodji\\anaconda3\\lib\\site-packages (from requests->folium) (2.0.4)\n",
      "Requirement already satisfied: idna<4,>=2.5 in c:\\users\\sodji\\anaconda3\\lib\\site-packages (from requests->folium) (3.7)\n",
      "Requirement already satisfied: urllib3<3,>=1.21.1 in c:\\users\\sodji\\anaconda3\\lib\\site-packages (from requests->folium) (2.2.2)\n",
      "Requirement already satisfied: certifi>=2017.4.17 in c:\\users\\sodji\\anaconda3\\lib\\site-packages (from requests->folium) (2024.8.30)\n"
     ]
    }
   ],
   "source": [
    "# Install folium package\n",
    "!pip install folium"
   ]
  },
  {
   "cell_type": "code",
   "execution_count": 4,
   "id": "60413b0e-9263-47df-a9df-bc1dadc9f869",
   "metadata": {},
   "outputs": [
    {
     "name": "stdout",
     "output_type": "stream",
     "text": [
      "Requirement already satisfied: geopandas in c:\\users\\sodji\\anaconda3\\lib\\site-packages (1.0.1)\n",
      "Requirement already satisfied: numpy>=1.22 in c:\\users\\sodji\\anaconda3\\lib\\site-packages (from geopandas) (1.26.4)\n",
      "Requirement already satisfied: pyogrio>=0.7.2 in c:\\users\\sodji\\anaconda3\\lib\\site-packages (from geopandas) (0.10.0)\n",
      "Requirement already satisfied: packaging in c:\\users\\sodji\\anaconda3\\lib\\site-packages (from geopandas) (23.2)\n",
      "Requirement already satisfied: pandas>=1.4.0 in c:\\users\\sodji\\anaconda3\\lib\\site-packages (from geopandas) (2.2.2)\n",
      "Requirement already satisfied: pyproj>=3.3.0 in c:\\users\\sodji\\anaconda3\\lib\\site-packages (from geopandas) (3.7.0)\n",
      "Requirement already satisfied: shapely>=2.0.0 in c:\\users\\sodji\\anaconda3\\lib\\site-packages (from geopandas) (2.0.6)\n",
      "Requirement already satisfied: python-dateutil>=2.8.2 in c:\\users\\sodji\\anaconda3\\lib\\site-packages (from pandas>=1.4.0->geopandas) (2.9.0.post0)\n",
      "Requirement already satisfied: pytz>=2020.1 in c:\\users\\sodji\\anaconda3\\lib\\site-packages (from pandas>=1.4.0->geopandas) (2024.1)\n",
      "Requirement already satisfied: tzdata>=2022.7 in c:\\users\\sodji\\anaconda3\\lib\\site-packages (from pandas>=1.4.0->geopandas) (2023.3)\n",
      "Requirement already satisfied: certifi in c:\\users\\sodji\\anaconda3\\lib\\site-packages (from pyogrio>=0.7.2->geopandas) (2024.8.30)\n",
      "Requirement already satisfied: six>=1.5 in c:\\users\\sodji\\anaconda3\\lib\\site-packages (from python-dateutil>=2.8.2->pandas>=1.4.0->geopandas) (1.16.0)\n"
     ]
    }
   ],
   "source": [
    "# Install folium package\n",
    "!pip install geopandas"
   ]
  },
  {
   "cell_type": "code",
   "execution_count": 2,
   "id": "2438d9f7-261e-413b-ae8a-83a16164d5bf",
   "metadata": {},
   "outputs": [],
   "source": [
    "import folium\n",
    "import geopandas as gpd\n",
    "from folium.plugins import HeatMap"
   ]
  },
  {
   "cell_type": "code",
   "execution_count": 4,
   "id": "d144401c-41b4-44d8-9687-e6de7ab7f110",
   "metadata": {},
   "outputs": [],
   "source": [
    "import numpy as np \n",
    "import pandas as pd"
   ]
  },
  {
   "cell_type": "code",
   "execution_count": 6,
   "id": "1f8580d8-6068-4ae3-a607-1a8168c9376e",
   "metadata": {},
   "outputs": [],
   "source": [
    "from datetime import datetime\n"
   ]
  },
  {
   "cell_type": "code",
   "execution_count": 8,
   "id": "a2426f6a-3d56-42c4-98bc-c94c558a3afc",
   "metadata": {},
   "outputs": [],
   "source": [
    "# Importer les modules nécessaires pour préparer les données\n",
    "from sklearn.model_selection import train_test_split\n",
    "\n",
    "# Importer les modules pour construire des pipelines et faire de la réduction de dimension\n",
    "from sklearn.pipeline import Pipeline\n",
    "from sklearn.decomposition import PCA\n",
    "\n",
    "# Importer le module pour le modèle de régression\n",
    "from sklearn.linear_model import LinearRegression\n",
    "\n",
    "# Importer les métriques pour l'évaluation du modèle\n",
    "from sklearn.metrics import mean_absolute_error, mean_squared_error, r2_score, root_mean_squared_error"
   ]
  },
  {
   "cell_type": "code",
   "execution_count": 10,
   "id": "f450cc9c-0c22-4718-9fa4-1709bd41ab95",
   "metadata": {},
   "outputs": [],
   "source": [
    "import matplotlib.pyplot as plt\n",
    "import seaborn as sns"
   ]
  },
  {
   "cell_type": "markdown",
   "id": "5f103106-fe05-4aeb-b6a5-47be1b199f14",
   "metadata": {},
   "source": [
    "**Reading the gas prices file**"
   ]
  },
  {
   "cell_type": "markdown",
   "id": "047123cc-8bbf-4313-ab8b-d085c8a4cfd6",
   "metadata": {},
   "source": [
    " **Attendu #1 et Attendu #2**"
   ]
  },
  {
   "cell_type": "code",
   "execution_count": 12,
   "id": "af473e80-756c-4d2c-bccc-57216576fd59",
   "metadata": {},
   "outputs": [],
   "source": [
    "# Import the dataset\n",
    "price_df = pd.read_csv(\n",
    "    'Prix2023.csv.gz',\n",
    "    sep=';',  # Specified delimiter\n",
    "    header=None,  # No header in the file\n",
    "    names=[\n",
    "        'id_station', 'zip_code', 'pop_type', 'latitude', 'longitude',\n",
    "        'date', 'id_gas', 'gas_label', 'price'\n",
    "    ],  # Column names in the given order\n",
    "    dtype={\n",
    "        'id_station': str,\n",
    "        'zip_code': str,  # Postal codes as strings\n",
    "        'pop_type': str,  # Type of population (R ou A)\n",
    "        'latitude': float,\n",
    "        'longitude': float,\n",
    "        'price': float  # Price in millieuros (float)\n",
    "    },\n",
    "    parse_dates=['date'] # Automatic date conversion\n",
    ")"
   ]
  },
  {
   "cell_type": "code",
   "execution_count": 14,
   "id": "a4663bee-a8c2-4c95-9d11-c5b128babf10",
   "metadata": {},
   "outputs": [
    {
     "name": "stdout",
     "output_type": "stream",
     "text": [
      "  id_station zip_code pop_type   latitude  longitude                date  \\\n",
      "0    1000001    01000        R  4620100.0   519800.0 2023-01-02 07:53:26   \n",
      "1    1000001    01000        R  4620100.0   519800.0 2023-01-05 09:33:37   \n",
      "2    1000001    01000        R  4620100.0   519800.0 2023-01-09 14:51:49   \n",
      "3    1000001    01000        R  4620100.0   519800.0 2023-01-11 09:23:54   \n",
      "4    1000001    01000        R  4620100.0   519800.0 2023-01-13 09:07:40   \n",
      "\n",
      "   id_gas gas_label  price  \n",
      "0     1.0    Gazole  1.867  \n",
      "1     1.0    Gazole  1.877  \n",
      "2     1.0    Gazole  1.875  \n",
      "3     1.0    Gazole  1.859  \n",
      "4     1.0    Gazole  1.862  \n"
     ]
    }
   ],
   "source": [
    "# Display the first few rows for verification\n",
    "print(price_df.head())"
   ]
  },
  {
   "cell_type": "code",
   "execution_count": 16,
   "id": "20078ced-9882-4f0a-9995-e28a3c8b7ac7",
   "metadata": {},
   "outputs": [
    {
     "data": {
      "text/plain": [
       "(4687530, 9)"
      ]
     },
     "execution_count": 16,
     "metadata": {},
     "output_type": "execute_result"
    }
   ],
   "source": [
    "price_df.shape"
   ]
  },
  {
   "cell_type": "code",
   "execution_count": 18,
   "id": "e5ccd3ae-052e-444a-9c11-a68bb1fc9a37",
   "metadata": {},
   "outputs": [
    {
     "data": {
      "text/plain": [
       "Index(['id_station', 'zip_code', 'pop_type', 'latitude', 'longitude', 'date',\n",
       "       'id_gas', 'gas_label', 'price'],\n",
       "      dtype='object')"
      ]
     },
     "execution_count": 18,
     "metadata": {},
     "output_type": "execute_result"
    }
   ],
   "source": [
    "price_df.columns"
   ]
  },
  {
   "cell_type": "code",
   "execution_count": 20,
   "id": "f1abe445-b531-4d49-a6a6-4dc328569e3c",
   "metadata": {},
   "outputs": [
    {
     "data": {
      "text/html": [
       "<div>\n",
       "<style scoped>\n",
       "    .dataframe tbody tr th:only-of-type {\n",
       "        vertical-align: middle;\n",
       "    }\n",
       "\n",
       "    .dataframe tbody tr th {\n",
       "        vertical-align: top;\n",
       "    }\n",
       "\n",
       "    .dataframe thead th {\n",
       "        text-align: right;\n",
       "    }\n",
       "</style>\n",
       "<table border=\"1\" class=\"dataframe\">\n",
       "  <thead>\n",
       "    <tr style=\"text-align: right;\">\n",
       "      <th></th>\n",
       "      <th>id_station</th>\n",
       "      <th>zip_code</th>\n",
       "      <th>pop_type</th>\n",
       "      <th>latitude</th>\n",
       "      <th>longitude</th>\n",
       "      <th>date</th>\n",
       "      <th>id_gas</th>\n",
       "      <th>gas_label</th>\n",
       "      <th>price</th>\n",
       "    </tr>\n",
       "  </thead>\n",
       "  <tbody>\n",
       "    <tr>\n",
       "      <th>0</th>\n",
       "      <td>False</td>\n",
       "      <td>False</td>\n",
       "      <td>False</td>\n",
       "      <td>False</td>\n",
       "      <td>False</td>\n",
       "      <td>False</td>\n",
       "      <td>False</td>\n",
       "      <td>False</td>\n",
       "      <td>False</td>\n",
       "    </tr>\n",
       "    <tr>\n",
       "      <th>1</th>\n",
       "      <td>False</td>\n",
       "      <td>False</td>\n",
       "      <td>False</td>\n",
       "      <td>False</td>\n",
       "      <td>False</td>\n",
       "      <td>False</td>\n",
       "      <td>False</td>\n",
       "      <td>False</td>\n",
       "      <td>False</td>\n",
       "    </tr>\n",
       "    <tr>\n",
       "      <th>2</th>\n",
       "      <td>False</td>\n",
       "      <td>False</td>\n",
       "      <td>False</td>\n",
       "      <td>False</td>\n",
       "      <td>False</td>\n",
       "      <td>False</td>\n",
       "      <td>False</td>\n",
       "      <td>False</td>\n",
       "      <td>False</td>\n",
       "    </tr>\n",
       "    <tr>\n",
       "      <th>3</th>\n",
       "      <td>False</td>\n",
       "      <td>False</td>\n",
       "      <td>False</td>\n",
       "      <td>False</td>\n",
       "      <td>False</td>\n",
       "      <td>False</td>\n",
       "      <td>False</td>\n",
       "      <td>False</td>\n",
       "      <td>False</td>\n",
       "    </tr>\n",
       "    <tr>\n",
       "      <th>4</th>\n",
       "      <td>False</td>\n",
       "      <td>False</td>\n",
       "      <td>False</td>\n",
       "      <td>False</td>\n",
       "      <td>False</td>\n",
       "      <td>False</td>\n",
       "      <td>False</td>\n",
       "      <td>False</td>\n",
       "      <td>False</td>\n",
       "    </tr>\n",
       "  </tbody>\n",
       "</table>\n",
       "</div>"
      ],
      "text/plain": [
       "   id_station  zip_code  pop_type  latitude  longitude   date  id_gas  \\\n",
       "0       False     False     False     False      False  False   False   \n",
       "1       False     False     False     False      False  False   False   \n",
       "2       False     False     False     False      False  False   False   \n",
       "3       False     False     False     False      False  False   False   \n",
       "4       False     False     False     False      False  False   False   \n",
       "\n",
       "   gas_label  price  \n",
       "0      False  False  \n",
       "1      False  False  \n",
       "2      False  False  \n",
       "3      False  False  \n",
       "4      False  False  "
      ]
     },
     "execution_count": 20,
     "metadata": {},
     "output_type": "execute_result"
    }
   ],
   "source": [
    "# Check the missing values\n",
    "price_df.head().isna()"
   ]
  },
  {
   "cell_type": "code",
   "execution_count": 22,
   "id": "5976faa1-c8e0-4f86-a94d-8662e9614c5a",
   "metadata": {},
   "outputs": [
    {
     "data": {
      "text/plain": [
       "id_station       0\n",
       "zip_code         0\n",
       "pop_type         0\n",
       "latitude        69\n",
       "longitude       68\n",
       "date          4177\n",
       "id_gas        4177\n",
       "gas_label     4177\n",
       "price         4177\n",
       "dtype: int64"
      ]
     },
     "execution_count": 22,
     "metadata": {},
     "output_type": "execute_result"
    }
   ],
   "source": [
    "# Number of missing values by column into data frame \n",
    "price_df.isna().sum()"
   ]
  },
  {
   "cell_type": "code",
   "execution_count": 24,
   "id": "4458fc6d-5f4a-44fc-8c56-69f4a64d11a3",
   "metadata": {},
   "outputs": [
    {
     "data": {
      "text/plain": [
       "16845"
      ]
     },
     "execution_count": 24,
     "metadata": {},
     "output_type": "execute_result"
    }
   ],
   "source": [
    "# Number of missing values into data frame \n",
    "price_df.isna().sum().sum()"
   ]
  },
  {
   "cell_type": "markdown",
   "id": "b7748636-a21a-405b-bc45-d9525d20ba12",
   "metadata": {},
   "source": [
    "### Extraction of the year, month, and week of the year from the date column"
   ]
  },
  {
   "cell_type": "code",
   "execution_count": 26,
   "id": "7dc6a74d-3339-49bc-9317-5a9d0bf13302",
   "metadata": {},
   "outputs": [],
   "source": [
    "# Extraction of the year, month, and week of the year from the column \"date\"\n",
    "price_df['year'] = price_df['date'].dt.year\n",
    "price_df['month'] = price_df['date'].dt.month\n",
    "price_df['week'] = price_df['date'].dt.isocalendar().week\n",
    "\n"
   ]
  },
  {
   "cell_type": "code",
   "execution_count": 28,
   "id": "86ccf81e-0200-4dbc-9eab-e778a669145d",
   "metadata": {},
   "outputs": [
    {
     "data": {
      "text/plain": [
       "Index(['id_station', 'zip_code', 'pop_type', 'latitude', 'longitude', 'date',\n",
       "       'id_gas', 'gas_label', 'price', 'year', 'month', 'week'],\n",
       "      dtype='object')"
      ]
     },
     "execution_count": 28,
     "metadata": {},
     "output_type": "execute_result"
    }
   ],
   "source": [
    "# Displaying columns\n",
    "price_df.columns"
   ]
  },
  {
   "cell_type": "code",
   "execution_count": 30,
   "id": "7c3b1fc7-b3b7-43da-8804-066c39ef537f",
   "metadata": {},
   "outputs": [
    {
     "name": "stdout",
     "output_type": "stream",
     "text": [
      "  id_station zip_code pop_type   latitude  longitude                date  \\\n",
      "0    1000001    01000        R  4620100.0   519800.0 2023-01-02 07:53:26   \n",
      "1    1000001    01000        R  4620100.0   519800.0 2023-01-05 09:33:37   \n",
      "2    1000001    01000        R  4620100.0   519800.0 2023-01-09 14:51:49   \n",
      "3    1000001    01000        R  4620100.0   519800.0 2023-01-11 09:23:54   \n",
      "4    1000001    01000        R  4620100.0   519800.0 2023-01-13 09:07:40   \n",
      "\n",
      "   id_gas gas_label  price    year  month  week  \n",
      "0     1.0    Gazole  1.867  2023.0    1.0     1  \n",
      "1     1.0    Gazole  1.877  2023.0    1.0     1  \n",
      "2     1.0    Gazole  1.875  2023.0    1.0     2  \n",
      "3     1.0    Gazole  1.859  2023.0    1.0     2  \n",
      "4     1.0    Gazole  1.862  2023.0    1.0     2  \n"
     ]
    }
   ],
   "source": [
    "print(price_df.head())"
   ]
  },
  {
   "cell_type": "markdown",
   "id": "b2133b58-5806-4b47-b98e-a3d878650e4d",
   "metadata": {},
   "source": [
    "### Latitude and longitude for mapping (divided by the appropriate power of 10)"
   ]
  },
  {
   "cell_type": "markdown",
   "id": "c113e6c4-f3ce-43ea-a448-7b78e4e9a4fb",
   "metadata": {},
   "source": [
    "Longitude measures the angular distance of a point relative to the reference meridian, called the Greenwich meridian, located at 0° longitude. It ranges from -180° (to the west) to 180° (to the east).\n",
    "\n",
    "Latitude measures the angular distance of a point relative to the equator, which is the imaginary line halfway between the North and South Poles. It ranges from -90° (South Pole) to 90° (North Pole)."
   ]
  },
  {
   "cell_type": "code",
   "execution_count": 32,
   "id": "b51de3c0-533c-4f4d-b1f3-e484ef3946c4",
   "metadata": {},
   "outputs": [
    {
     "name": "stdout",
     "output_type": "stream",
     "text": [
      "5529526.0602666 -472300.0\n"
     ]
    }
   ],
   "source": [
    "# Show the min and the max of longitude into our data set\n",
    "max_longitude = price_df['longitude'].max()\n",
    "min_longitude = price_df['longitude'].min()\n",
    "print(max_longitude, min_longitude)"
   ]
  },
  {
   "cell_type": "code",
   "execution_count": 34,
   "id": "13f1bd6a-8699-4643-acb9-b329e755611b",
   "metadata": {},
   "outputs": [
    {
     "name": "stdout",
     "output_type": "stream",
     "text": [
      "6260655.98007 -2094971.3596753\n"
     ]
    }
   ],
   "source": [
    "# Show the min and the max of latitude into our data set\n",
    "max_latitude = price_df['latitude'].max()\n",
    "min_latitude = price_df['latitude'].min()\n",
    "print(max_latitude, min_latitude)"
   ]
  },
  {
   "cell_type": "code",
   "execution_count": 36,
   "id": "fc8f118c-40ca-410e-816e-c38aa32b4e73",
   "metadata": {},
   "outputs": [],
   "source": [
    "# Preparation of latitude and longitude for mapping\n",
    "# (Division by the appropriate power of 10)\n",
    "price_df['latitude'] = price_df['latitude'] / 10**5\n",
    "price_df['longitude'] = price_df['longitude'] / 10**5"
   ]
  },
  {
   "cell_type": "code",
   "execution_count": 38,
   "id": "764fd44f-672a-4af4-b3f6-babd004f34b4",
   "metadata": {},
   "outputs": [
    {
     "name": "stdout",
     "output_type": "stream",
     "text": [
      "  id_station zip_code pop_type  latitude  longitude                date  \\\n",
      "0    1000001    01000        R    46.201      5.198 2023-01-02 07:53:26   \n",
      "1    1000001    01000        R    46.201      5.198 2023-01-05 09:33:37   \n",
      "2    1000001    01000        R    46.201      5.198 2023-01-09 14:51:49   \n",
      "3    1000001    01000        R    46.201      5.198 2023-01-11 09:23:54   \n",
      "4    1000001    01000        R    46.201      5.198 2023-01-13 09:07:40   \n",
      "\n",
      "   id_gas gas_label  price    year  month  week  \n",
      "0     1.0    Gazole  1.867  2023.0    1.0     1  \n",
      "1     1.0    Gazole  1.877  2023.0    1.0     1  \n",
      "2     1.0    Gazole  1.875  2023.0    1.0     2  \n",
      "3     1.0    Gazole  1.859  2023.0    1.0     2  \n",
      "4     1.0    Gazole  1.862  2023.0    1.0     2  \n"
     ]
    }
   ],
   "source": [
    "# Displaying the first few rows for verification\n",
    "print(price_df.head())"
   ]
  },
  {
   "cell_type": "markdown",
   "id": "b579ddf5-f48b-4170-a6d1-1b07d0826bc0",
   "metadata": {},
   "source": [
    "### Basic statistics and the types of fuel of interest for the rest of the project"
   ]
  },
  {
   "cell_type": "markdown",
   "id": "9a62ce9b-bf13-4f38-9489-819eacc95a55",
   "metadata": {},
   "source": [
    "**Attendu #3**"
   ]
  },
  {
   "cell_type": "code",
   "execution_count": 40,
   "id": "cd8698df-f569-4afa-8369-9b1080379293",
   "metadata": {},
   "outputs": [
    {
     "data": {
      "text/html": [
       "<div>\n",
       "<style scoped>\n",
       "    .dataframe tbody tr th:only-of-type {\n",
       "        vertical-align: middle;\n",
       "    }\n",
       "\n",
       "    .dataframe tbody tr th {\n",
       "        vertical-align: top;\n",
       "    }\n",
       "\n",
       "    .dataframe thead th {\n",
       "        text-align: right;\n",
       "    }\n",
       "</style>\n",
       "<table border=\"1\" class=\"dataframe\">\n",
       "  <thead>\n",
       "    <tr style=\"text-align: right;\">\n",
       "      <th></th>\n",
       "      <th>count</th>\n",
       "      <th>mean</th>\n",
       "      <th>std</th>\n",
       "      <th>min</th>\n",
       "      <th>25%</th>\n",
       "      <th>50%</th>\n",
       "      <th>75%</th>\n",
       "      <th>max</th>\n",
       "    </tr>\n",
       "    <tr>\n",
       "      <th>gas_label</th>\n",
       "      <th></th>\n",
       "      <th></th>\n",
       "      <th></th>\n",
       "      <th></th>\n",
       "      <th></th>\n",
       "      <th></th>\n",
       "      <th></th>\n",
       "      <th></th>\n",
       "    </tr>\n",
       "  </thead>\n",
       "  <tbody>\n",
       "    <tr>\n",
       "      <th>E10</th>\n",
       "      <td>1176889.0</td>\n",
       "      <td>1.872632</td>\n",
       "      <td>0.096234</td>\n",
       "      <td>0.040</td>\n",
       "      <td>1.809</td>\n",
       "      <td>1.868</td>\n",
       "      <td>1.929</td>\n",
       "      <td>9.949</td>\n",
       "    </tr>\n",
       "    <tr>\n",
       "      <th>E85</th>\n",
       "      <td>479380.0</td>\n",
       "      <td>1.078817</td>\n",
       "      <td>0.098473</td>\n",
       "      <td>0.019</td>\n",
       "      <td>0.999</td>\n",
       "      <td>1.079</td>\n",
       "      <td>1.139</td>\n",
       "      <td>9.989</td>\n",
       "    </tr>\n",
       "    <tr>\n",
       "      <th>GPLc</th>\n",
       "      <td>204305.0</td>\n",
       "      <td>0.996458</td>\n",
       "      <td>0.089196</td>\n",
       "      <td>0.019</td>\n",
       "      <td>0.939</td>\n",
       "      <td>0.987</td>\n",
       "      <td>1.050</td>\n",
       "      <td>2.837</td>\n",
       "    </tr>\n",
       "    <tr>\n",
       "      <th>Gazole</th>\n",
       "      <td>1398374.0</td>\n",
       "      <td>1.821179</td>\n",
       "      <td>0.117766</td>\n",
       "      <td>0.004</td>\n",
       "      <td>1.743</td>\n",
       "      <td>1.819</td>\n",
       "      <td>1.899</td>\n",
       "      <td>9.919</td>\n",
       "    </tr>\n",
       "    <tr>\n",
       "      <th>SP95</th>\n",
       "      <td>314626.0</td>\n",
       "      <td>1.886551</td>\n",
       "      <td>0.083398</td>\n",
       "      <td>0.049</td>\n",
       "      <td>1.834</td>\n",
       "      <td>1.889</td>\n",
       "      <td>1.939</td>\n",
       "      <td>9.000</td>\n",
       "    </tr>\n",
       "    <tr>\n",
       "      <th>SP98</th>\n",
       "      <td>1109779.0</td>\n",
       "      <td>1.953037</td>\n",
       "      <td>0.101238</td>\n",
       "      <td>0.019</td>\n",
       "      <td>1.889</td>\n",
       "      <td>1.950</td>\n",
       "      <td>1.990</td>\n",
       "      <td>9.970</td>\n",
       "    </tr>\n",
       "  </tbody>\n",
       "</table>\n",
       "</div>"
      ],
      "text/plain": [
       "               count      mean       std    min    25%    50%    75%    max\n",
       "gas_label                                                                  \n",
       "E10        1176889.0  1.872632  0.096234  0.040  1.809  1.868  1.929  9.949\n",
       "E85         479380.0  1.078817  0.098473  0.019  0.999  1.079  1.139  9.989\n",
       "GPLc        204305.0  0.996458  0.089196  0.019  0.939  0.987  1.050  2.837\n",
       "Gazole     1398374.0  1.821179  0.117766  0.004  1.743  1.819  1.899  9.919\n",
       "SP95        314626.0  1.886551  0.083398  0.049  1.834  1.889  1.939  9.000\n",
       "SP98       1109779.0  1.953037  0.101238  0.019  1.889  1.950  1.990  9.970"
      ]
     },
     "execution_count": 40,
     "metadata": {},
     "output_type": "execute_result"
    }
   ],
   "source": [
    "# Grouping by fuel type and statistical description\n",
    "\n",
    "gas_stats = price_df.groupby('gas_label')['price'].describe()\n",
    "gas_stats"
   ]
  },
  {
   "cell_type": "code",
   "execution_count": 42,
   "id": "819fcb1c-cfe1-41bc-9eae-9d9f4615a528",
   "metadata": {},
   "outputs": [],
   "source": [
    "n = len(price_df)  # number of observations"
   ]
  },
  {
   "cell_type": "code",
   "execution_count": 44,
   "id": "f9696415-c713-45c1-b734-5cb7ae8f722b",
   "metadata": {},
   "outputs": [
    {
     "name": "stdout",
     "output_type": "stream",
     "text": [
      "\n",
      "Frequency of gas types :\n",
      "gas_label\n",
      "Gazole    29.831788\n",
      "E10       25.106805\n",
      "SP98      23.675134\n",
      "E85       10.226708\n",
      "SP95       6.711978\n",
      "GPLc       4.358479\n",
      "Name: count, dtype: float64\n"
     ]
    }
   ],
   "source": [
    "# Display the frequency of each gas type\n",
    "frequency_percentage = (gas_stats['count']/n)*100\n",
    "print(\"\\nFrequency of gas types :\")\n",
    "print(frequency_percentage.sort_values(ascending=False))"
   ]
  },
  {
   "cell_type": "markdown",
   "id": "48a3253c-fe5f-4c2a-b12f-061554ecefad",
   "metadata": {},
   "source": [
    "The gas types SP95 and GPLc have very low frequencies compared to the other types. Therefore, they can be filtered out for the rest of the project. \n",
    "The gas types to retain, which are of interest for the rest of the project, are Gazole, E10, SP98, and E85."
   ]
  },
  {
   "cell_type": "code",
   "execution_count": 46,
   "id": "ef852772-cb7f-4e98-85eb-29993134a791",
   "metadata": {},
   "outputs": [],
   "source": [
    "# Removal of the two gas types that are not relevant for the rest of the project.\n",
    "price_df_filter = price_df[~price_df['gas_label'].isin(['GPLc', 'SP95'])].copy()"
   ]
  },
  {
   "cell_type": "markdown",
   "id": "b635b5bf-a6a7-4a53-9ea0-0d65c5fbec78",
   "metadata": {},
   "source": [
    "**Verification of the removal of observations associated with the two categories GPLc and SP95**"
   ]
  },
  {
   "cell_type": "code",
   "execution_count": 48,
   "id": "0e8c5223-80bd-45d0-8462-ba8d56f61424",
   "metadata": {},
   "outputs": [
    {
     "data": {
      "text/plain": [
       "(4168599, 12)"
      ]
     },
     "execution_count": 48,
     "metadata": {},
     "output_type": "execute_result"
    }
   ],
   "source": [
    "price_df_filter.shape"
   ]
  },
  {
   "cell_type": "code",
   "execution_count": 50,
   "id": "c520c329-7375-4083-a9b6-ed6498350355",
   "metadata": {},
   "outputs": [
    {
     "data": {
      "text/plain": [
       "(4687530, 12)"
      ]
     },
     "execution_count": 50,
     "metadata": {},
     "output_type": "execute_result"
    }
   ],
   "source": [
    "price_df.shape"
   ]
  },
  {
   "cell_type": "code",
   "execution_count": 52,
   "id": "2aff92e8-64ac-4e79-a1d4-0003ffd8e44c",
   "metadata": {},
   "outputs": [
    {
     "data": {
      "text/plain": [
       "518931"
      ]
     },
     "execution_count": 52,
     "metadata": {},
     "output_type": "execute_result"
    }
   ],
   "source": [
    "price_df.shape[0] - price_df_filter.shape[0]"
   ]
  },
  {
   "cell_type": "code",
   "execution_count": 54,
   "id": "a8901687-9951-4bc3-b9df-d1b07d3ed4b1",
   "metadata": {},
   "outputs": [
    {
     "data": {
      "text/plain": [
       "4"
      ]
     },
     "execution_count": 54,
     "metadata": {},
     "output_type": "execute_result"
    }
   ],
   "source": [
    "price_df_filter['gas_label'].nunique()"
   ]
  },
  {
   "cell_type": "code",
   "execution_count": 56,
   "id": "9b75e93d-c553-4b85-a72e-76a91783cd4b",
   "metadata": {},
   "outputs": [
    {
     "data": {
      "text/plain": [
       "array(['Gazole', 'E85', 'E10', 'SP98', nan], dtype=object)"
      ]
     },
     "execution_count": 56,
     "metadata": {},
     "output_type": "execute_result"
    }
   ],
   "source": [
    "price_df_filter['gas_label'].unique()"
   ]
  },
  {
   "cell_type": "markdown",
   "id": "ddb73371-eba4-4ef8-a9bf-fb37a09b5972",
   "metadata": {},
   "source": [
    "Calculation of the price index for each station per week.\n",
    "--"
   ]
  },
  {
   "cell_type": "markdown",
   "id": "dc761884-5f7e-4298-a24c-dd4628ddfd90",
   "metadata": {},
   "source": [
    "**Attendu #4**"
   ]
  },
  {
   "cell_type": "code",
   "execution_count": 58,
   "id": "b364b3e9-c4af-4744-a120-9ca170172132",
   "metadata": {},
   "outputs": [
    {
     "data": {
      "text/plain": [
       "Index(['id_station', 'zip_code', 'pop_type', 'latitude', 'longitude', 'date',\n",
       "       'id_gas', 'gas_label', 'price', 'year', 'month', 'week'],\n",
       "      dtype='object')"
      ]
     },
     "execution_count": 58,
     "metadata": {},
     "output_type": "execute_result"
    }
   ],
   "source": [
    "price_df_filter.columns"
   ]
  },
  {
   "cell_type": "markdown",
   "id": "0bf200a1-88b7-40cb-95b1-66110c97a396",
   "metadata": {},
   "source": [
    "\n",
    "### Calculate the average daily price in France by gas type\n"
   ]
  },
  {
   "cell_type": "code",
   "execution_count": 60,
   "id": "2933f5b2-ac1b-493a-a933-535baab382bd",
   "metadata": {},
   "outputs": [],
   "source": [
    "# Let's add a new column with the dates without the times\n",
    "price_df_filter['date_only'] = price_df_filter['date'].dt.date"
   ]
  },
  {
   "cell_type": "code",
   "execution_count": 62,
   "id": "e54ee4cc-8a7b-4315-ba3c-51336cc50437",
   "metadata": {},
   "outputs": [
    {
     "data": {
      "text/html": [
       "<div>\n",
       "<style scoped>\n",
       "    .dataframe tbody tr th:only-of-type {\n",
       "        vertical-align: middle;\n",
       "    }\n",
       "\n",
       "    .dataframe tbody tr th {\n",
       "        vertical-align: top;\n",
       "    }\n",
       "\n",
       "    .dataframe thead th {\n",
       "        text-align: right;\n",
       "    }\n",
       "</style>\n",
       "<table border=\"1\" class=\"dataframe\">\n",
       "  <thead>\n",
       "    <tr style=\"text-align: right;\">\n",
       "      <th></th>\n",
       "      <th>id_station</th>\n",
       "      <th>zip_code</th>\n",
       "      <th>pop_type</th>\n",
       "      <th>latitude</th>\n",
       "      <th>longitude</th>\n",
       "      <th>date</th>\n",
       "      <th>id_gas</th>\n",
       "      <th>gas_label</th>\n",
       "      <th>price</th>\n",
       "      <th>year</th>\n",
       "      <th>month</th>\n",
       "      <th>week</th>\n",
       "      <th>date_only</th>\n",
       "    </tr>\n",
       "  </thead>\n",
       "  <tbody>\n",
       "    <tr>\n",
       "      <th>0</th>\n",
       "      <td>1000001</td>\n",
       "      <td>01000</td>\n",
       "      <td>R</td>\n",
       "      <td>46.201</td>\n",
       "      <td>5.198</td>\n",
       "      <td>2023-01-02 07:53:26</td>\n",
       "      <td>1.0</td>\n",
       "      <td>Gazole</td>\n",
       "      <td>1.867</td>\n",
       "      <td>2023.0</td>\n",
       "      <td>1.0</td>\n",
       "      <td>1</td>\n",
       "      <td>2023-01-02</td>\n",
       "    </tr>\n",
       "    <tr>\n",
       "      <th>1</th>\n",
       "      <td>1000001</td>\n",
       "      <td>01000</td>\n",
       "      <td>R</td>\n",
       "      <td>46.201</td>\n",
       "      <td>5.198</td>\n",
       "      <td>2023-01-05 09:33:37</td>\n",
       "      <td>1.0</td>\n",
       "      <td>Gazole</td>\n",
       "      <td>1.877</td>\n",
       "      <td>2023.0</td>\n",
       "      <td>1.0</td>\n",
       "      <td>1</td>\n",
       "      <td>2023-01-05</td>\n",
       "    </tr>\n",
       "    <tr>\n",
       "      <th>2</th>\n",
       "      <td>1000001</td>\n",
       "      <td>01000</td>\n",
       "      <td>R</td>\n",
       "      <td>46.201</td>\n",
       "      <td>5.198</td>\n",
       "      <td>2023-01-09 14:51:49</td>\n",
       "      <td>1.0</td>\n",
       "      <td>Gazole</td>\n",
       "      <td>1.875</td>\n",
       "      <td>2023.0</td>\n",
       "      <td>1.0</td>\n",
       "      <td>2</td>\n",
       "      <td>2023-01-09</td>\n",
       "    </tr>\n",
       "    <tr>\n",
       "      <th>3</th>\n",
       "      <td>1000001</td>\n",
       "      <td>01000</td>\n",
       "      <td>R</td>\n",
       "      <td>46.201</td>\n",
       "      <td>5.198</td>\n",
       "      <td>2023-01-11 09:23:54</td>\n",
       "      <td>1.0</td>\n",
       "      <td>Gazole</td>\n",
       "      <td>1.859</td>\n",
       "      <td>2023.0</td>\n",
       "      <td>1.0</td>\n",
       "      <td>2</td>\n",
       "      <td>2023-01-11</td>\n",
       "    </tr>\n",
       "    <tr>\n",
       "      <th>4</th>\n",
       "      <td>1000001</td>\n",
       "      <td>01000</td>\n",
       "      <td>R</td>\n",
       "      <td>46.201</td>\n",
       "      <td>5.198</td>\n",
       "      <td>2023-01-13 09:07:40</td>\n",
       "      <td>1.0</td>\n",
       "      <td>Gazole</td>\n",
       "      <td>1.862</td>\n",
       "      <td>2023.0</td>\n",
       "      <td>1.0</td>\n",
       "      <td>2</td>\n",
       "      <td>2023-01-13</td>\n",
       "    </tr>\n",
       "  </tbody>\n",
       "</table>\n",
       "</div>"
      ],
      "text/plain": [
       "  id_station zip_code pop_type  latitude  longitude                date  \\\n",
       "0    1000001    01000        R    46.201      5.198 2023-01-02 07:53:26   \n",
       "1    1000001    01000        R    46.201      5.198 2023-01-05 09:33:37   \n",
       "2    1000001    01000        R    46.201      5.198 2023-01-09 14:51:49   \n",
       "3    1000001    01000        R    46.201      5.198 2023-01-11 09:23:54   \n",
       "4    1000001    01000        R    46.201      5.198 2023-01-13 09:07:40   \n",
       "\n",
       "   id_gas gas_label  price    year  month  week   date_only  \n",
       "0     1.0    Gazole  1.867  2023.0    1.0     1  2023-01-02  \n",
       "1     1.0    Gazole  1.877  2023.0    1.0     1  2023-01-05  \n",
       "2     1.0    Gazole  1.875  2023.0    1.0     2  2023-01-09  \n",
       "3     1.0    Gazole  1.859  2023.0    1.0     2  2023-01-11  \n",
       "4     1.0    Gazole  1.862  2023.0    1.0     2  2023-01-13  "
      ]
     },
     "execution_count": 62,
     "metadata": {},
     "output_type": "execute_result"
    }
   ],
   "source": [
    "price_df_filter.head()"
   ]
  },
  {
   "cell_type": "code",
   "execution_count": 64,
   "id": "37603348-8bb9-4dbb-867b-83c119608ea0",
   "metadata": {},
   "outputs": [],
   "source": [
    "# average price per date and gas label\n",
    "average_daily_price  = (price_df_filter.groupby(['gas_label', 'date_only'])['price'].mean()).reset_index()"
   ]
  },
  {
   "cell_type": "code",
   "execution_count": 66,
   "id": "4764bc59-9d20-444d-b4b9-794b071cc57f",
   "metadata": {},
   "outputs": [],
   "source": [
    "average_daily_price = average_daily_price.rename(columns={'price': 'mean_price'})"
   ]
  },
  {
   "cell_type": "code",
   "execution_count": 68,
   "id": "4d423e1b-364a-45bf-8f71-bb0d414f20ad",
   "metadata": {},
   "outputs": [
    {
     "data": {
      "text/html": [
       "<div>\n",
       "<style scoped>\n",
       "    .dataframe tbody tr th:only-of-type {\n",
       "        vertical-align: middle;\n",
       "    }\n",
       "\n",
       "    .dataframe tbody tr th {\n",
       "        vertical-align: top;\n",
       "    }\n",
       "\n",
       "    .dataframe thead th {\n",
       "        text-align: right;\n",
       "    }\n",
       "</style>\n",
       "<table border=\"1\" class=\"dataframe\">\n",
       "  <thead>\n",
       "    <tr style=\"text-align: right;\">\n",
       "      <th></th>\n",
       "      <th>gas_label</th>\n",
       "      <th>date_only</th>\n",
       "      <th>mean_price</th>\n",
       "    </tr>\n",
       "  </thead>\n",
       "  <tbody>\n",
       "    <tr>\n",
       "      <th>730</th>\n",
       "      <td>Gazole</td>\n",
       "      <td>2023-01-01</td>\n",
       "      <td>1.932416</td>\n",
       "    </tr>\n",
       "    <tr>\n",
       "      <th>731</th>\n",
       "      <td>Gazole</td>\n",
       "      <td>2023-01-02</td>\n",
       "      <td>1.895031</td>\n",
       "    </tr>\n",
       "    <tr>\n",
       "      <th>732</th>\n",
       "      <td>Gazole</td>\n",
       "      <td>2023-01-03</td>\n",
       "      <td>1.917166</td>\n",
       "    </tr>\n",
       "    <tr>\n",
       "      <th>733</th>\n",
       "      <td>Gazole</td>\n",
       "      <td>2023-01-04</td>\n",
       "      <td>1.927109</td>\n",
       "    </tr>\n",
       "    <tr>\n",
       "      <th>734</th>\n",
       "      <td>Gazole</td>\n",
       "      <td>2023-01-05</td>\n",
       "      <td>1.928939</td>\n",
       "    </tr>\n",
       "  </tbody>\n",
       "</table>\n",
       "</div>"
      ],
      "text/plain": [
       "    gas_label   date_only  mean_price\n",
       "730    Gazole  2023-01-01    1.932416\n",
       "731    Gazole  2023-01-02    1.895031\n",
       "732    Gazole  2023-01-03    1.917166\n",
       "733    Gazole  2023-01-04    1.927109\n",
       "734    Gazole  2023-01-05    1.928939"
      ]
     },
     "execution_count": 68,
     "metadata": {},
     "output_type": "execute_result"
    }
   ],
   "source": [
    "average_daily_price[average_daily_price['gas_label'] == 'Gazole'].head()"
   ]
  },
  {
   "cell_type": "code",
   "execution_count": 70,
   "id": "f3bf1ce3-ee78-4186-aa39-29b732144aea",
   "metadata": {},
   "outputs": [],
   "source": [
    "# merge\n",
    "merge_price_df_filter = price_df_filter.merge(average_daily_price,\n",
    "                                              how='left', \n",
    "                                              on=['date_only', 'gas_label']  # Liste des colonnes à utiliser comme clés\n",
    "                                             )"
   ]
  },
  {
   "cell_type": "code",
   "execution_count": 72,
   "id": "8b235bfd-abaf-4968-b679-8aa6b77cb3b9",
   "metadata": {},
   "outputs": [
    {
     "data": {
      "text/html": [
       "<div>\n",
       "<style scoped>\n",
       "    .dataframe tbody tr th:only-of-type {\n",
       "        vertical-align: middle;\n",
       "    }\n",
       "\n",
       "    .dataframe tbody tr th {\n",
       "        vertical-align: top;\n",
       "    }\n",
       "\n",
       "    .dataframe thead th {\n",
       "        text-align: right;\n",
       "    }\n",
       "</style>\n",
       "<table border=\"1\" class=\"dataframe\">\n",
       "  <thead>\n",
       "    <tr style=\"text-align: right;\">\n",
       "      <th></th>\n",
       "      <th>id_station</th>\n",
       "      <th>zip_code</th>\n",
       "      <th>pop_type</th>\n",
       "      <th>latitude</th>\n",
       "      <th>longitude</th>\n",
       "      <th>date</th>\n",
       "      <th>id_gas</th>\n",
       "      <th>gas_label</th>\n",
       "      <th>price</th>\n",
       "      <th>year</th>\n",
       "      <th>month</th>\n",
       "      <th>week</th>\n",
       "      <th>date_only</th>\n",
       "      <th>mean_price</th>\n",
       "    </tr>\n",
       "  </thead>\n",
       "  <tbody>\n",
       "    <tr>\n",
       "      <th>0</th>\n",
       "      <td>1000001</td>\n",
       "      <td>01000</td>\n",
       "      <td>R</td>\n",
       "      <td>46.201</td>\n",
       "      <td>5.198</td>\n",
       "      <td>2023-01-02 07:53:26</td>\n",
       "      <td>1.0</td>\n",
       "      <td>Gazole</td>\n",
       "      <td>1.867</td>\n",
       "      <td>2023.0</td>\n",
       "      <td>1.0</td>\n",
       "      <td>1</td>\n",
       "      <td>2023-01-02</td>\n",
       "      <td>1.895031</td>\n",
       "    </tr>\n",
       "    <tr>\n",
       "      <th>1</th>\n",
       "      <td>1000001</td>\n",
       "      <td>01000</td>\n",
       "      <td>R</td>\n",
       "      <td>46.201</td>\n",
       "      <td>5.198</td>\n",
       "      <td>2023-01-05 09:33:37</td>\n",
       "      <td>1.0</td>\n",
       "      <td>Gazole</td>\n",
       "      <td>1.877</td>\n",
       "      <td>2023.0</td>\n",
       "      <td>1.0</td>\n",
       "      <td>1</td>\n",
       "      <td>2023-01-05</td>\n",
       "      <td>1.928939</td>\n",
       "    </tr>\n",
       "    <tr>\n",
       "      <th>2</th>\n",
       "      <td>1000001</td>\n",
       "      <td>01000</td>\n",
       "      <td>R</td>\n",
       "      <td>46.201</td>\n",
       "      <td>5.198</td>\n",
       "      <td>2023-01-09 14:51:49</td>\n",
       "      <td>1.0</td>\n",
       "      <td>Gazole</td>\n",
       "      <td>1.875</td>\n",
       "      <td>2023.0</td>\n",
       "      <td>1.0</td>\n",
       "      <td>2</td>\n",
       "      <td>2023-01-09</td>\n",
       "      <td>1.908270</td>\n",
       "    </tr>\n",
       "    <tr>\n",
       "      <th>3</th>\n",
       "      <td>1000001</td>\n",
       "      <td>01000</td>\n",
       "      <td>R</td>\n",
       "      <td>46.201</td>\n",
       "      <td>5.198</td>\n",
       "      <td>2023-01-11 09:23:54</td>\n",
       "      <td>1.0</td>\n",
       "      <td>Gazole</td>\n",
       "      <td>1.859</td>\n",
       "      <td>2023.0</td>\n",
       "      <td>1.0</td>\n",
       "      <td>2</td>\n",
       "      <td>2023-01-11</td>\n",
       "      <td>1.898416</td>\n",
       "    </tr>\n",
       "    <tr>\n",
       "      <th>4</th>\n",
       "      <td>1000001</td>\n",
       "      <td>01000</td>\n",
       "      <td>R</td>\n",
       "      <td>46.201</td>\n",
       "      <td>5.198</td>\n",
       "      <td>2023-01-13 09:07:40</td>\n",
       "      <td>1.0</td>\n",
       "      <td>Gazole</td>\n",
       "      <td>1.862</td>\n",
       "      <td>2023.0</td>\n",
       "      <td>1.0</td>\n",
       "      <td>2</td>\n",
       "      <td>2023-01-13</td>\n",
       "      <td>1.913978</td>\n",
       "    </tr>\n",
       "  </tbody>\n",
       "</table>\n",
       "</div>"
      ],
      "text/plain": [
       "  id_station zip_code pop_type  latitude  longitude                date  \\\n",
       "0    1000001    01000        R    46.201      5.198 2023-01-02 07:53:26   \n",
       "1    1000001    01000        R    46.201      5.198 2023-01-05 09:33:37   \n",
       "2    1000001    01000        R    46.201      5.198 2023-01-09 14:51:49   \n",
       "3    1000001    01000        R    46.201      5.198 2023-01-11 09:23:54   \n",
       "4    1000001    01000        R    46.201      5.198 2023-01-13 09:07:40   \n",
       "\n",
       "   id_gas gas_label  price    year  month  week   date_only  mean_price  \n",
       "0     1.0    Gazole  1.867  2023.0    1.0     1  2023-01-02    1.895031  \n",
       "1     1.0    Gazole  1.877  2023.0    1.0     1  2023-01-05    1.928939  \n",
       "2     1.0    Gazole  1.875  2023.0    1.0     2  2023-01-09    1.908270  \n",
       "3     1.0    Gazole  1.859  2023.0    1.0     2  2023-01-11    1.898416  \n",
       "4     1.0    Gazole  1.862  2023.0    1.0     2  2023-01-13    1.913978  "
      ]
     },
     "execution_count": 72,
     "metadata": {},
     "output_type": "execute_result"
    }
   ],
   "source": [
    "merge_price_df_filter.head()"
   ]
  },
  {
   "cell_type": "code",
   "execution_count": 74,
   "id": "db27b07c-00c8-43f3-99bc-250bcfd6a000",
   "metadata": {},
   "outputs": [
    {
     "data": {
      "text/plain": [
       "(4168599, 13)"
      ]
     },
     "execution_count": 74,
     "metadata": {},
     "output_type": "execute_result"
    }
   ],
   "source": [
    "price_df_filter.shape"
   ]
  },
  {
   "cell_type": "code",
   "execution_count": 76,
   "id": "92f3e21f-93f1-4f6f-82c4-133a05fb0494",
   "metadata": {},
   "outputs": [
    {
     "data": {
      "text/plain": [
       "(4168599, 14)"
      ]
     },
     "execution_count": 76,
     "metadata": {},
     "output_type": "execute_result"
    }
   ],
   "source": [
    "merge_price_df_filter.shape"
   ]
  },
  {
   "cell_type": "markdown",
   "id": "201dccc8-322c-4436-9873-3134d19ac050",
   "metadata": {},
   "source": [
    "### Calculate the price index"
   ]
  },
  {
   "cell_type": "code",
   "execution_count": 78,
   "id": "b98c2897-8fd2-4d23-8b34-8052e5d9a724",
   "metadata": {},
   "outputs": [],
   "source": [
    "# Add a column for the price index\n",
    "merge_price_df_filter['price_index'] = 100*((merge_price_df_filter['price'] - merge_price_df_filter['mean_price'])/merge_price_df_filter['mean_price'] + 1)"
   ]
  },
  {
   "cell_type": "code",
   "execution_count": 80,
   "id": "d9a91c20-6129-427a-be14-d162b9e4f61c",
   "metadata": {},
   "outputs": [
    {
     "data": {
      "text/html": [
       "<div>\n",
       "<style scoped>\n",
       "    .dataframe tbody tr th:only-of-type {\n",
       "        vertical-align: middle;\n",
       "    }\n",
       "\n",
       "    .dataframe tbody tr th {\n",
       "        vertical-align: top;\n",
       "    }\n",
       "\n",
       "    .dataframe thead th {\n",
       "        text-align: right;\n",
       "    }\n",
       "</style>\n",
       "<table border=\"1\" class=\"dataframe\">\n",
       "  <thead>\n",
       "    <tr style=\"text-align: right;\">\n",
       "      <th></th>\n",
       "      <th>id_station</th>\n",
       "      <th>zip_code</th>\n",
       "      <th>pop_type</th>\n",
       "      <th>latitude</th>\n",
       "      <th>longitude</th>\n",
       "      <th>date</th>\n",
       "      <th>id_gas</th>\n",
       "      <th>gas_label</th>\n",
       "      <th>price</th>\n",
       "      <th>year</th>\n",
       "      <th>month</th>\n",
       "      <th>week</th>\n",
       "      <th>date_only</th>\n",
       "      <th>mean_price</th>\n",
       "      <th>price_index</th>\n",
       "    </tr>\n",
       "  </thead>\n",
       "  <tbody>\n",
       "    <tr>\n",
       "      <th>0</th>\n",
       "      <td>1000001</td>\n",
       "      <td>01000</td>\n",
       "      <td>R</td>\n",
       "      <td>46.201</td>\n",
       "      <td>5.198</td>\n",
       "      <td>2023-01-02 07:53:26</td>\n",
       "      <td>1.0</td>\n",
       "      <td>Gazole</td>\n",
       "      <td>1.867</td>\n",
       "      <td>2023.0</td>\n",
       "      <td>1.0</td>\n",
       "      <td>1</td>\n",
       "      <td>2023-01-02</td>\n",
       "      <td>1.895031</td>\n",
       "      <td>98.520825</td>\n",
       "    </tr>\n",
       "    <tr>\n",
       "      <th>1</th>\n",
       "      <td>1000001</td>\n",
       "      <td>01000</td>\n",
       "      <td>R</td>\n",
       "      <td>46.201</td>\n",
       "      <td>5.198</td>\n",
       "      <td>2023-01-05 09:33:37</td>\n",
       "      <td>1.0</td>\n",
       "      <td>Gazole</td>\n",
       "      <td>1.877</td>\n",
       "      <td>2023.0</td>\n",
       "      <td>1.0</td>\n",
       "      <td>1</td>\n",
       "      <td>2023-01-05</td>\n",
       "      <td>1.928939</td>\n",
       "      <td>97.307368</td>\n",
       "    </tr>\n",
       "    <tr>\n",
       "      <th>2</th>\n",
       "      <td>1000001</td>\n",
       "      <td>01000</td>\n",
       "      <td>R</td>\n",
       "      <td>46.201</td>\n",
       "      <td>5.198</td>\n",
       "      <td>2023-01-09 14:51:49</td>\n",
       "      <td>1.0</td>\n",
       "      <td>Gazole</td>\n",
       "      <td>1.875</td>\n",
       "      <td>2023.0</td>\n",
       "      <td>1.0</td>\n",
       "      <td>2</td>\n",
       "      <td>2023-01-09</td>\n",
       "      <td>1.908270</td>\n",
       "      <td>98.256561</td>\n",
       "    </tr>\n",
       "    <tr>\n",
       "      <th>3</th>\n",
       "      <td>1000001</td>\n",
       "      <td>01000</td>\n",
       "      <td>R</td>\n",
       "      <td>46.201</td>\n",
       "      <td>5.198</td>\n",
       "      <td>2023-01-11 09:23:54</td>\n",
       "      <td>1.0</td>\n",
       "      <td>Gazole</td>\n",
       "      <td>1.859</td>\n",
       "      <td>2023.0</td>\n",
       "      <td>1.0</td>\n",
       "      <td>2</td>\n",
       "      <td>2023-01-11</td>\n",
       "      <td>1.898416</td>\n",
       "      <td>97.923743</td>\n",
       "    </tr>\n",
       "    <tr>\n",
       "      <th>4</th>\n",
       "      <td>1000001</td>\n",
       "      <td>01000</td>\n",
       "      <td>R</td>\n",
       "      <td>46.201</td>\n",
       "      <td>5.198</td>\n",
       "      <td>2023-01-13 09:07:40</td>\n",
       "      <td>1.0</td>\n",
       "      <td>Gazole</td>\n",
       "      <td>1.862</td>\n",
       "      <td>2023.0</td>\n",
       "      <td>1.0</td>\n",
       "      <td>2</td>\n",
       "      <td>2023-01-13</td>\n",
       "      <td>1.913978</td>\n",
       "      <td>97.284302</td>\n",
       "    </tr>\n",
       "  </tbody>\n",
       "</table>\n",
       "</div>"
      ],
      "text/plain": [
       "  id_station zip_code pop_type  latitude  longitude                date  \\\n",
       "0    1000001    01000        R    46.201      5.198 2023-01-02 07:53:26   \n",
       "1    1000001    01000        R    46.201      5.198 2023-01-05 09:33:37   \n",
       "2    1000001    01000        R    46.201      5.198 2023-01-09 14:51:49   \n",
       "3    1000001    01000        R    46.201      5.198 2023-01-11 09:23:54   \n",
       "4    1000001    01000        R    46.201      5.198 2023-01-13 09:07:40   \n",
       "\n",
       "   id_gas gas_label  price    year  month  week   date_only  mean_price  \\\n",
       "0     1.0    Gazole  1.867  2023.0    1.0     1  2023-01-02    1.895031   \n",
       "1     1.0    Gazole  1.877  2023.0    1.0     1  2023-01-05    1.928939   \n",
       "2     1.0    Gazole  1.875  2023.0    1.0     2  2023-01-09    1.908270   \n",
       "3     1.0    Gazole  1.859  2023.0    1.0     2  2023-01-11    1.898416   \n",
       "4     1.0    Gazole  1.862  2023.0    1.0     2  2023-01-13    1.913978   \n",
       "\n",
       "   price_index  \n",
       "0    98.520825  \n",
       "1    97.307368  \n",
       "2    98.256561  \n",
       "3    97.923743  \n",
       "4    97.284302  "
      ]
     },
     "execution_count": 80,
     "metadata": {},
     "output_type": "execute_result"
    }
   ],
   "source": [
    "merge_price_df_filter.head()"
   ]
  },
  {
   "cell_type": "markdown",
   "id": "38961988-2880-41d7-9aca-f2bd9d15bd5e",
   "metadata": {},
   "source": [
    "***Index of the Week***"
   ]
  },
  {
   "cell_type": "markdown",
   "id": "fe0f006b-cd77-4d47-aafe-beebcba5e647",
   "metadata": {},
   "source": [
    "**Attendu #5**"
   ]
  },
  {
   "cell_type": "code",
   "execution_count": 82,
   "id": "48b9c5ba-a0fb-4fee-bbbb-d9495e4a0682",
   "metadata": {},
   "outputs": [],
   "source": [
    "# The week index is the same as the week. Thus we are going to rename the week column\n",
    "merge_price_df_filter =  merge_price_df_filter.rename(columns = {'week' : 'week_index'})"
   ]
  },
  {
   "cell_type": "code",
   "execution_count": 84,
   "id": "482f3a3a-700e-4fb3-b1f9-df64fe80f4e5",
   "metadata": {},
   "outputs": [
    {
     "data": {
      "text/html": [
       "<div>\n",
       "<style scoped>\n",
       "    .dataframe tbody tr th:only-of-type {\n",
       "        vertical-align: middle;\n",
       "    }\n",
       "\n",
       "    .dataframe tbody tr th {\n",
       "        vertical-align: top;\n",
       "    }\n",
       "\n",
       "    .dataframe thead th {\n",
       "        text-align: right;\n",
       "    }\n",
       "</style>\n",
       "<table border=\"1\" class=\"dataframe\">\n",
       "  <thead>\n",
       "    <tr style=\"text-align: right;\">\n",
       "      <th></th>\n",
       "      <th>id_station</th>\n",
       "      <th>zip_code</th>\n",
       "      <th>pop_type</th>\n",
       "      <th>latitude</th>\n",
       "      <th>longitude</th>\n",
       "      <th>date</th>\n",
       "      <th>id_gas</th>\n",
       "      <th>gas_label</th>\n",
       "      <th>price</th>\n",
       "      <th>year</th>\n",
       "      <th>month</th>\n",
       "      <th>week_index</th>\n",
       "      <th>date_only</th>\n",
       "      <th>mean_price</th>\n",
       "      <th>price_index</th>\n",
       "    </tr>\n",
       "  </thead>\n",
       "  <tbody>\n",
       "    <tr>\n",
       "      <th>0</th>\n",
       "      <td>1000001</td>\n",
       "      <td>01000</td>\n",
       "      <td>R</td>\n",
       "      <td>46.201</td>\n",
       "      <td>5.198</td>\n",
       "      <td>2023-01-02 07:53:26</td>\n",
       "      <td>1.0</td>\n",
       "      <td>Gazole</td>\n",
       "      <td>1.867</td>\n",
       "      <td>2023.0</td>\n",
       "      <td>1.0</td>\n",
       "      <td>1</td>\n",
       "      <td>2023-01-02</td>\n",
       "      <td>1.895031</td>\n",
       "      <td>98.520825</td>\n",
       "    </tr>\n",
       "    <tr>\n",
       "      <th>1</th>\n",
       "      <td>1000001</td>\n",
       "      <td>01000</td>\n",
       "      <td>R</td>\n",
       "      <td>46.201</td>\n",
       "      <td>5.198</td>\n",
       "      <td>2023-01-05 09:33:37</td>\n",
       "      <td>1.0</td>\n",
       "      <td>Gazole</td>\n",
       "      <td>1.877</td>\n",
       "      <td>2023.0</td>\n",
       "      <td>1.0</td>\n",
       "      <td>1</td>\n",
       "      <td>2023-01-05</td>\n",
       "      <td>1.928939</td>\n",
       "      <td>97.307368</td>\n",
       "    </tr>\n",
       "    <tr>\n",
       "      <th>2</th>\n",
       "      <td>1000001</td>\n",
       "      <td>01000</td>\n",
       "      <td>R</td>\n",
       "      <td>46.201</td>\n",
       "      <td>5.198</td>\n",
       "      <td>2023-01-09 14:51:49</td>\n",
       "      <td>1.0</td>\n",
       "      <td>Gazole</td>\n",
       "      <td>1.875</td>\n",
       "      <td>2023.0</td>\n",
       "      <td>1.0</td>\n",
       "      <td>2</td>\n",
       "      <td>2023-01-09</td>\n",
       "      <td>1.908270</td>\n",
       "      <td>98.256561</td>\n",
       "    </tr>\n",
       "    <tr>\n",
       "      <th>3</th>\n",
       "      <td>1000001</td>\n",
       "      <td>01000</td>\n",
       "      <td>R</td>\n",
       "      <td>46.201</td>\n",
       "      <td>5.198</td>\n",
       "      <td>2023-01-11 09:23:54</td>\n",
       "      <td>1.0</td>\n",
       "      <td>Gazole</td>\n",
       "      <td>1.859</td>\n",
       "      <td>2023.0</td>\n",
       "      <td>1.0</td>\n",
       "      <td>2</td>\n",
       "      <td>2023-01-11</td>\n",
       "      <td>1.898416</td>\n",
       "      <td>97.923743</td>\n",
       "    </tr>\n",
       "    <tr>\n",
       "      <th>4</th>\n",
       "      <td>1000001</td>\n",
       "      <td>01000</td>\n",
       "      <td>R</td>\n",
       "      <td>46.201</td>\n",
       "      <td>5.198</td>\n",
       "      <td>2023-01-13 09:07:40</td>\n",
       "      <td>1.0</td>\n",
       "      <td>Gazole</td>\n",
       "      <td>1.862</td>\n",
       "      <td>2023.0</td>\n",
       "      <td>1.0</td>\n",
       "      <td>2</td>\n",
       "      <td>2023-01-13</td>\n",
       "      <td>1.913978</td>\n",
       "      <td>97.284302</td>\n",
       "    </tr>\n",
       "  </tbody>\n",
       "</table>\n",
       "</div>"
      ],
      "text/plain": [
       "  id_station zip_code pop_type  latitude  longitude                date  \\\n",
       "0    1000001    01000        R    46.201      5.198 2023-01-02 07:53:26   \n",
       "1    1000001    01000        R    46.201      5.198 2023-01-05 09:33:37   \n",
       "2    1000001    01000        R    46.201      5.198 2023-01-09 14:51:49   \n",
       "3    1000001    01000        R    46.201      5.198 2023-01-11 09:23:54   \n",
       "4    1000001    01000        R    46.201      5.198 2023-01-13 09:07:40   \n",
       "\n",
       "   id_gas gas_label  price    year  month  week_index   date_only  mean_price  \\\n",
       "0     1.0    Gazole  1.867  2023.0    1.0           1  2023-01-02    1.895031   \n",
       "1     1.0    Gazole  1.877  2023.0    1.0           1  2023-01-05    1.928939   \n",
       "2     1.0    Gazole  1.875  2023.0    1.0           2  2023-01-09    1.908270   \n",
       "3     1.0    Gazole  1.859  2023.0    1.0           2  2023-01-11    1.898416   \n",
       "4     1.0    Gazole  1.862  2023.0    1.0           2  2023-01-13    1.913978   \n",
       "\n",
       "   price_index  \n",
       "0    98.520825  \n",
       "1    97.307368  \n",
       "2    98.256561  \n",
       "3    97.923743  \n",
       "4    97.284302  "
      ]
     },
     "execution_count": 84,
     "metadata": {},
     "output_type": "execute_result"
    }
   ],
   "source": [
    "merge_price_df_filter.head()"
   ]
  },
  {
   "cell_type": "code",
   "execution_count": 86,
   "id": "77df8a6a-05a6-4da4-84d6-4927a823a0fe",
   "metadata": {},
   "outputs": [],
   "source": [
    "# Agréger par station et par semaine\n",
    "indice_station_week = (\n",
    "    merge_price_df_filter.groupby(['id_station', 'week_index', 'gas_label'])['price_index']\n",
    "    .mean()\n",
    "    .reset_index()\n",
    "    .rename(columns={'price_index': 'avg_price_index_weekly'})\n",
    ")"
   ]
  },
  {
   "cell_type": "code",
   "execution_count": 88,
   "id": "93443150-9d1b-4bd2-bf7e-aa51b90f6ae0",
   "metadata": {},
   "outputs": [
    {
     "data": {
      "text/html": [
       "<div>\n",
       "<style scoped>\n",
       "    .dataframe tbody tr th:only-of-type {\n",
       "        vertical-align: middle;\n",
       "    }\n",
       "\n",
       "    .dataframe tbody tr th {\n",
       "        vertical-align: top;\n",
       "    }\n",
       "\n",
       "    .dataframe thead th {\n",
       "        text-align: right;\n",
       "    }\n",
       "</style>\n",
       "<table border=\"1\" class=\"dataframe\">\n",
       "  <thead>\n",
       "    <tr style=\"text-align: right;\">\n",
       "      <th></th>\n",
       "      <th>id_station</th>\n",
       "      <th>week_index</th>\n",
       "      <th>gas_label</th>\n",
       "      <th>avg_price_index_weekly</th>\n",
       "    </tr>\n",
       "  </thead>\n",
       "  <tbody>\n",
       "    <tr>\n",
       "      <th>0</th>\n",
       "      <td>10000005</td>\n",
       "      <td>1</td>\n",
       "      <td>E10</td>\n",
       "      <td>100.087562</td>\n",
       "    </tr>\n",
       "    <tr>\n",
       "      <th>1</th>\n",
       "      <td>10000005</td>\n",
       "      <td>1</td>\n",
       "      <td>Gazole</td>\n",
       "      <td>99.005231</td>\n",
       "    </tr>\n",
       "    <tr>\n",
       "      <th>2</th>\n",
       "      <td>10000005</td>\n",
       "      <td>1</td>\n",
       "      <td>SP98</td>\n",
       "      <td>99.803929</td>\n",
       "    </tr>\n",
       "    <tr>\n",
       "      <th>3</th>\n",
       "      <td>10000005</td>\n",
       "      <td>2</td>\n",
       "      <td>E10</td>\n",
       "      <td>100.825122</td>\n",
       "    </tr>\n",
       "    <tr>\n",
       "      <th>4</th>\n",
       "      <td>10000005</td>\n",
       "      <td>2</td>\n",
       "      <td>Gazole</td>\n",
       "      <td>99.342087</td>\n",
       "    </tr>\n",
       "  </tbody>\n",
       "</table>\n",
       "</div>"
      ],
      "text/plain": [
       "  id_station  week_index gas_label  avg_price_index_weekly\n",
       "0   10000005           1       E10              100.087562\n",
       "1   10000005           1    Gazole               99.005231\n",
       "2   10000005           1      SP98               99.803929\n",
       "3   10000005           2       E10              100.825122\n",
       "4   10000005           2    Gazole               99.342087"
      ]
     },
     "execution_count": 88,
     "metadata": {},
     "output_type": "execute_result"
    }
   ],
   "source": [
    "indice_station_week.head()"
   ]
  },
  {
   "cell_type": "markdown",
   "id": "1f5d6826-5cbb-4162-9d7e-a849186f561e",
   "metadata": {},
   "source": [
    "### Data visualization\r\n"
   ]
  },
  {
   "cell_type": "markdown",
   "id": "5c4f0277-7079-4f6f-8aec-5211c33957fb",
   "metadata": {},
   "source": [
    "**Attendu #6**"
   ]
  },
  {
   "cell_type": "code",
   "execution_count": 90,
   "id": "fba59d0a-c629-4b3e-a8c5-2cab29a694ce",
   "metadata": {},
   "outputs": [],
   "source": [
    "# Calculation of the weekly average index for each type of gas\n",
    "weekly_prices = (merge_price_df_filter\n",
    "                 .dropna(subset=['week_index'])\n",
    "                 .groupby(['gas_label', 'week_index'])['price_index']\n",
    "                 .mean())"
   ]
  },
  {
   "cell_type": "code",
   "execution_count": 92,
   "id": "ecc0b92a-6f41-42c3-9c8d-fd7a4a28bd64",
   "metadata": {},
   "outputs": [
    {
     "data": {
      "image/png": "[encoded data removed]",
      "text/plain": [
       "<Figure size 1400x800 with 1 Axes>"
      ]
     },
     "metadata": {},
     "output_type": "display_data"
    }
   ],
   "source": [
    "plt.figure(figsize=(14, 8))\n",
    "sns.lineplot(data=indice_station_week, x='week_index', y='avg_price_index_weekly', hue='gas_label')\n",
    "plt.title(\"Weekly Evolution of Average Price Indices by Type of Gas\")\n",
    "plt.xlabel(\"Index of the Week\")\n",
    "plt.ylabel(\"Average Price Index\")\n",
    "plt.legend(title=\"Type of Gas\")\n",
    "plt.grid(True)\n",
    "plt.show()"
   ]
  },
  {
   "cell_type": "markdown",
   "id": "26b10641-ae96-4847-843a-34a87e25523d",
   "metadata": {},
   "source": [
    "### Data Visualization – Bonus Question"
   ]
  },
  {
   "cell_type": "markdown",
   "id": "3ff03e12-e4ff-4b16-9767-f9ec828d57bc",
   "metadata": {},
   "source": [
    " **Option #1**"
   ]
  },
  {
   "cell_type": "code",
   "execution_count": 94,
   "id": "385802a7-124d-4216-94c3-7c1c4031a0ea",
   "metadata": {},
   "outputs": [],
   "source": [
    "# Extract the department from zip_code (taking the first 2 digits)\n",
    "merge_price_df_filter['code'] = merge_price_df_filter['zip_code'].astype(str).str[:2]"
   ]
  },
  {
   "cell_type": "code",
   "execution_count": 96,
   "id": "4f04a269-b1b0-4211-8a9d-4357c7aa328e",
   "metadata": {},
   "outputs": [],
   "source": [
    "# Calculate the average price index by department and type of carbura\n",
    "mean_price_dep = (\n",
    "    merge_price_df_filter.groupby(['code', 'gas_label'])\n",
    "    ['price_index'].mean().reset_index()\n",
    ")"
   ]
  },
  {
   "cell_type": "code",
   "execution_count": 98,
   "id": "52a0e305-22e9-41b5-9582-1b695beb9c01",
   "metadata": {},
   "outputs": [
    {
     "data": {
      "text/html": [
       "<div>\n",
       "<style scoped>\n",
       "    .dataframe tbody tr th:only-of-type {\n",
       "        vertical-align: middle;\n",
       "    }\n",
       "\n",
       "    .dataframe tbody tr th {\n",
       "        vertical-align: top;\n",
       "    }\n",
       "\n",
       "    .dataframe thead th {\n",
       "        text-align: right;\n",
       "    }\n",
       "</style>\n",
       "<table border=\"1\" class=\"dataframe\">\n",
       "  <thead>\n",
       "    <tr style=\"text-align: right;\">\n",
       "      <th></th>\n",
       "      <th>code</th>\n",
       "      <th>gas_label</th>\n",
       "      <th>price_index</th>\n",
       "    </tr>\n",
       "  </thead>\n",
       "  <tbody>\n",
       "    <tr>\n",
       "      <th>0</th>\n",
       "      <td>01</td>\n",
       "      <td>E10</td>\n",
       "      <td>100.773779</td>\n",
       "    </tr>\n",
       "    <tr>\n",
       "      <th>1</th>\n",
       "      <td>01</td>\n",
       "      <td>E85</td>\n",
       "      <td>102.326514</td>\n",
       "    </tr>\n",
       "    <tr>\n",
       "      <th>2</th>\n",
       "      <td>01</td>\n",
       "      <td>Gazole</td>\n",
       "      <td>100.284983</td>\n",
       "    </tr>\n",
       "    <tr>\n",
       "      <th>3</th>\n",
       "      <td>01</td>\n",
       "      <td>SP98</td>\n",
       "      <td>100.934734</td>\n",
       "    </tr>\n",
       "    <tr>\n",
       "      <th>4</th>\n",
       "      <td>02</td>\n",
       "      <td>E10</td>\n",
       "      <td>99.488623</td>\n",
       "    </tr>\n",
       "  </tbody>\n",
       "</table>\n",
       "</div>"
      ],
      "text/plain": [
       "  code gas_label  price_index\n",
       "0   01       E10   100.773779\n",
       "1   01       E85   102.326514\n",
       "2   01    Gazole   100.284983\n",
       "3   01      SP98   100.934734\n",
       "4   02       E10    99.488623"
      ]
     },
     "execution_count": 98,
     "metadata": {},
     "output_type": "execute_result"
    }
   ],
   "source": [
    "mean_price_dep.head()  # Displaying results"
   ]
  },
  {
   "cell_type": "code",
   "execution_count": 100,
   "id": "d8387fee-198c-4a83-aa35-ad238338c566",
   "metadata": {},
   "outputs": [
    {
     "data": {
      "text/plain": [
       "code           0\n",
       "gas_label      0\n",
       "price_index    0\n",
       "dtype: int64"
      ]
     },
     "execution_count": 100,
     "metadata": {},
     "output_type": "execute_result"
    }
   ],
   "source": [
    "mean_price_dep.isna().sum()"
   ]
  },
  {
   "cell_type": "code",
   "execution_count": 102,
   "id": "66b67958-a540-4a63-8848-dde0d55168e9",
   "metadata": {},
   "outputs": [],
   "source": [
    "# Load geographic data\n",
    "# Upload the GeoJSON directly from GitHub\n",
    "url = \"https://raw.githubusercontent.com/gregoiredavid/france-geojson/master/departements.geojson\"\n",
    "france_departments = gpd.read_file(url)\n"
   ]
  },
  {
   "cell_type": "code",
   "execution_count": 104,
   "id": "36ddf283-47f1-4948-bdea-33bb8af6f6e6",
   "metadata": {},
   "outputs": [
    {
     "name": "stdout",
     "output_type": "stream",
     "text": [
      "  code                      nom  \\\n",
      "0   01                      Ain   \n",
      "1   02                    Aisne   \n",
      "2   03                   Allier   \n",
      "3   04  Alpes-de-Haute-Provence   \n",
      "4   05             Hautes-Alpes   \n",
      "\n",
      "                                            geometry  \n",
      "0  POLYGON ((4.78021 46.17668, 4.78024 46.18905, ...  \n",
      "1  POLYGON ((3.17296 50.01131, 3.17382 50.01186, ...  \n",
      "2  POLYGON ((3.03207 46.79491, 3.03424 46.7908, 3...  \n",
      "3  POLYGON ((5.67604 44.19143, 5.67817 44.19051, ...  \n",
      "4  POLYGON ((6.26057 45.12685, 6.26417 45.12641, ...  \n"
     ]
    }
   ],
   "source": [
    "# Verify the data\n",
    "print(france_departments.head())"
   ]
  },
  {
   "cell_type": "code",
   "execution_count": 106,
   "id": "f6c171c9-17d0-4e97-a6ec-e5f772629095",
   "metadata": {},
   "outputs": [],
   "source": [
    "gas_types = mean_price_dep['gas_label'].unique()\n",
    "#gas_types"
   ]
  },
  {
   "cell_type": "code",
   "execution_count": 108,
   "id": "a8cba236-19f2-4003-b355-be47a50bb63b",
   "metadata": {},
   "outputs": [
    {
     "name": "stdout",
     "output_type": "stream",
     "text": [
      "\n",
      " The types of gas are: ['E10' 'E85' 'Gazole' 'SP98']\n",
      "Please choose the type of gas you would like to see the map of\n"
     ]
    },
    {
     "name": "stdin",
     "output_type": "stream",
     "text": [
      " E10\n"
     ]
    }
   ],
   "source": [
    "print(f\"\\n The types of gas are: {gas_types}\")\n",
    "print(\"Please choose the type of gas you would like to see the map of\")\n",
    "gas = input()"
   ]
  },
  {
   "cell_type": "code",
   "execution_count": 110,
   "id": "185a31cb-52a9-4923-8503-dd026f4db456",
   "metadata": {},
   "outputs": [],
   "source": [
    "# Create a map by gas type\n",
    "# Filter the data for the current gas type\n",
    "gas_data = mean_price_dep[mean_price_dep['gas_label'] == gas] # Create the map\n",
    "m =l= folium.Map(\n",
    "    location=[46.5, 2.3],  # Central coordinates of France\n",
    "    zoom_start=6,\n",
    "    tiles=\"CartoDB positron\", # map color\n",
    ")   \n",
    "    "
   ]
  },
  {
   "cell_type": "code",
   "execution_count": 112,
   "id": "e62c39c7-64d3-4db1-9c9a-43fb4e8d4dda",
   "metadata": {},
   "outputs": [
    {
     "data": {
      "text/plain": [
       "<folium.features.Choropleth at 0x1bd6ebfb440>"
      ]
     },
     "execution_count": 112,
     "metadata": {},
     "output_type": "execute_result"
    }
   ],
   "source": [
    "#  Add a choropleth layer\n",
    "folium.Choropleth(\n",
    "        geo_data=france_departments,\n",
    "        data=gas_data,\n",
    "        columns=['code', 'price_index'],  # 'code'  matching to 'key_on'\n",
    "        key_on='feature.properties.code',  \n",
    "        fill_color='YlOrRd',  #  Color Palette\n",
    "        fill_opacity=0.7,\n",
    "        line_opacity=0.2,\n",
    "        legend_name=f\"Indice de prix pour {gas}\",\n",
    "    ).add_to(m)\n",
    "    "
   ]
  },
  {
   "cell_type": "code",
   "execution_count": 114,
   "id": "e8b406e4-e14d-4f69-afe5-87ee0c52b475",
   "metadata": {},
   "outputs": [
    {
     "data": {
      "text/plain": [
       "<folium.map.LayerControl at 0x1bd2ed97920>"
      ]
     },
     "execution_count": 114,
     "metadata": {},
     "output_type": "execute_result"
    }
   ],
   "source": [
    "#  Add tooltips \n",
    "folium.LayerControl().add_to(m)  "
   ]
  },
  {
   "cell_type": "code",
   "execution_count": 8,
   "id": "31dc0985-8f5f-4f07-b98f-052afd93db68",
   "metadata": {},
   "outputs": [
    {
     "ename": "NameError",
     "evalue": "name 'gas' is not defined",
     "output_type": "error",
     "traceback": [
      "\u001b[1;31m---------------------------------------------------------------------------\u001b[0m",
      "\u001b[1;31mNameError\u001b[0m                                 Traceback (most recent call last)",
      "Cell \u001b[1;32mIn[8], line 1\u001b[0m\n\u001b[1;32m----> 1\u001b[0m \u001b[38;5;28mprint\u001b[39m(\u001b[38;5;124mf\u001b[39m\u001b[38;5;124m\"\u001b[39m\u001b[38;5;124m Map created for gas : \u001b[39m\u001b[38;5;132;01m{\u001b[39;00mgas\u001b[38;5;132;01m}\u001b[39;00m\u001b[38;5;124m\"\u001b[39m)\n",
      "\u001b[1;31mNameError\u001b[0m: name 'gas' is not defined"
     ]
    }
   ],
   "source": [
    "print(f\" Map created for gas : {gas}\")  \n",
    "#m"
   ]
  },
  {
   "cell_type": "markdown",
   "id": "5e77fb16-b1af-4768-9aae-9d0c99b12810",
   "metadata": {},
   "source": [
    "### Modeling – Next Day Price Prediction"
   ]
  },
  {
   "cell_type": "markdown",
   "id": "6252ca27-a5f6-40ad-bc84-a905010420a2",
   "metadata": {},
   "source": [
    "***Attendu # 7***"
   ]
  },
  {
   "cell_type": "code",
   "execution_count": 118,
   "id": "74ee3023-67f0-4355-8ab8-b8051f99c25c",
   "metadata": {},
   "outputs": [
    {
     "data": {
      "text/html": [
       "<div>\n",
       "<style scoped>\n",
       "    .dataframe tbody tr th:only-of-type {\n",
       "        vertical-align: middle;\n",
       "    }\n",
       "\n",
       "    .dataframe tbody tr th {\n",
       "        vertical-align: top;\n",
       "    }\n",
       "\n",
       "    .dataframe thead th {\n",
       "        text-align: right;\n",
       "    }\n",
       "</style>\n",
       "<table border=\"1\" class=\"dataframe\">\n",
       "  <thead>\n",
       "    <tr style=\"text-align: right;\">\n",
       "      <th></th>\n",
       "      <th>gas_label</th>\n",
       "      <th>date</th>\n",
       "      <th>price</th>\n",
       "    </tr>\n",
       "  </thead>\n",
       "  <tbody>\n",
       "    <tr>\n",
       "      <th>0</th>\n",
       "      <td>E10</td>\n",
       "      <td>2023-01-01</td>\n",
       "      <td>1.825184</td>\n",
       "    </tr>\n",
       "    <tr>\n",
       "      <th>1</th>\n",
       "      <td>E10</td>\n",
       "      <td>2023-01-02</td>\n",
       "      <td>1.790054</td>\n",
       "    </tr>\n",
       "    <tr>\n",
       "      <th>2</th>\n",
       "      <td>E10</td>\n",
       "      <td>2023-01-03</td>\n",
       "      <td>1.830154</td>\n",
       "    </tr>\n",
       "    <tr>\n",
       "      <th>3</th>\n",
       "      <td>E10</td>\n",
       "      <td>2023-01-04</td>\n",
       "      <td>1.843688</td>\n",
       "    </tr>\n",
       "    <tr>\n",
       "      <th>4</th>\n",
       "      <td>E10</td>\n",
       "      <td>2023-01-05</td>\n",
       "      <td>1.850857</td>\n",
       "    </tr>\n",
       "  </tbody>\n",
       "</table>\n",
       "</div>"
      ],
      "text/plain": [
       "  gas_label       date     price\n",
       "0       E10 2023-01-01  1.825184\n",
       "1       E10 2023-01-02  1.790054\n",
       "2       E10 2023-01-03  1.830154\n",
       "3       E10 2023-01-04  1.843688\n",
       "4       E10 2023-01-05  1.850857"
      ]
     },
     "execution_count": 118,
     "metadata": {},
     "output_type": "execute_result"
    }
   ],
   "source": [
    "#  Aggregation of average price per gas by day of the year\n",
    "# This aggregation is the same as that performed in  \"attendu #4\" using 'day_only'. The difference is that the following formula allows you to keep the datetime type of the date.\n",
    "price_day_label_mean = price_df_filter.groupby(['gas_label', pd.Grouper(key='date', freq='1d')])['price'].mean().reset_index() \n",
    "price_day_label_mean.head()"
   ]
  },
  {
   "cell_type": "markdown",
   "id": "136414c7-46eb-4151-a8a3-09679a5f3d80",
   "metadata": {},
   "source": [
    "**Train a next-day price prediction model for each gas the next day**"
   ]
  },
  {
   "cell_type": "markdown",
   "id": "15a607f2-0ec7-424b-b2ea-f6b107b6bf17",
   "metadata": {},
   "source": [
    "**Let's build a model**"
   ]
  },
  {
   "cell_type": "code",
   "execution_count": 120,
   "id": "5715f4f3-5088-495e-9b87-1e58fea446a1",
   "metadata": {},
   "outputs": [],
   "source": [
    "#  Add columns for the delayed price\n",
    "price_day_label_mean['price_lag1'] = price_day_label_mean.groupby('gas_label')['price'].shift(1) #   Prices of the previous day\n",
    "price_day_label_mean['price_lag2'] = price_day_label_mean.groupby('gas_label')['price'].shift(2) #  Price from 2 days ago"
   ]
  },
  {
   "cell_type": "code",
   "execution_count": 122,
   "id": "804ab854-f211-49ef-99ba-e3ed1aa73690",
   "metadata": {},
   "outputs": [
    {
     "data": {
      "text/html": [
       "<div>\n",
       "<style scoped>\n",
       "    .dataframe tbody tr th:only-of-type {\n",
       "        vertical-align: middle;\n",
       "    }\n",
       "\n",
       "    .dataframe tbody tr th {\n",
       "        vertical-align: top;\n",
       "    }\n",
       "\n",
       "    .dataframe thead th {\n",
       "        text-align: right;\n",
       "    }\n",
       "</style>\n",
       "<table border=\"1\" class=\"dataframe\">\n",
       "  <thead>\n",
       "    <tr style=\"text-align: right;\">\n",
       "      <th></th>\n",
       "      <th>gas_label</th>\n",
       "      <th>date</th>\n",
       "      <th>price</th>\n",
       "      <th>price_lag1</th>\n",
       "      <th>price_lag2</th>\n",
       "    </tr>\n",
       "  </thead>\n",
       "  <tbody>\n",
       "    <tr>\n",
       "      <th>0</th>\n",
       "      <td>E10</td>\n",
       "      <td>2023-01-01</td>\n",
       "      <td>1.825184</td>\n",
       "      <td>NaN</td>\n",
       "      <td>NaN</td>\n",
       "    </tr>\n",
       "    <tr>\n",
       "      <th>1</th>\n",
       "      <td>E10</td>\n",
       "      <td>2023-01-02</td>\n",
       "      <td>1.790054</td>\n",
       "      <td>1.825184</td>\n",
       "      <td>NaN</td>\n",
       "    </tr>\n",
       "    <tr>\n",
       "      <th>2</th>\n",
       "      <td>E10</td>\n",
       "      <td>2023-01-03</td>\n",
       "      <td>1.830154</td>\n",
       "      <td>1.790054</td>\n",
       "      <td>1.825184</td>\n",
       "    </tr>\n",
       "    <tr>\n",
       "      <th>3</th>\n",
       "      <td>E10</td>\n",
       "      <td>2023-01-04</td>\n",
       "      <td>1.843688</td>\n",
       "      <td>1.830154</td>\n",
       "      <td>1.790054</td>\n",
       "    </tr>\n",
       "    <tr>\n",
       "      <th>4</th>\n",
       "      <td>E10</td>\n",
       "      <td>2023-01-05</td>\n",
       "      <td>1.850857</td>\n",
       "      <td>1.843688</td>\n",
       "      <td>1.830154</td>\n",
       "    </tr>\n",
       "  </tbody>\n",
       "</table>\n",
       "</div>"
      ],
      "text/plain": [
       "  gas_label       date     price  price_lag1  price_lag2\n",
       "0       E10 2023-01-01  1.825184         NaN         NaN\n",
       "1       E10 2023-01-02  1.790054    1.825184         NaN\n",
       "2       E10 2023-01-03  1.830154    1.790054    1.825184\n",
       "3       E10 2023-01-04  1.843688    1.830154    1.790054\n",
       "4       E10 2023-01-05  1.850857    1.843688    1.830154"
      ]
     },
     "execution_count": 122,
     "metadata": {},
     "output_type": "execute_result"
    }
   ],
   "source": [
    "price_day_label_mean.head()"
   ]
  },
  {
   "cell_type": "code",
   "execution_count": 124,
   "id": "0ebaa1d3-a1ba-4b84-ae01-d0a8e82942b3",
   "metadata": {},
   "outputs": [],
   "source": [
    "#  Delete rows with missing values\n",
    "price_day_label_mean = price_day_label_mean.dropna()"
   ]
  },
  {
   "cell_type": "code",
   "execution_count": 126,
   "id": "80afc906-cd6f-481f-9c40-b5e8e9454289",
   "metadata": {},
   "outputs": [
    {
     "data": {
      "text/html": [
       "<div>\n",
       "<style scoped>\n",
       "    .dataframe tbody tr th:only-of-type {\n",
       "        vertical-align: middle;\n",
       "    }\n",
       "\n",
       "    .dataframe tbody tr th {\n",
       "        vertical-align: top;\n",
       "    }\n",
       "\n",
       "    .dataframe thead th {\n",
       "        text-align: right;\n",
       "    }\n",
       "</style>\n",
       "<table border=\"1\" class=\"dataframe\">\n",
       "  <thead>\n",
       "    <tr style=\"text-align: right;\">\n",
       "      <th></th>\n",
       "      <th>gas_label</th>\n",
       "      <th>date</th>\n",
       "      <th>price</th>\n",
       "      <th>price_lag1</th>\n",
       "      <th>price_lag2</th>\n",
       "    </tr>\n",
       "  </thead>\n",
       "  <tbody>\n",
       "    <tr>\n",
       "      <th>2</th>\n",
       "      <td>E10</td>\n",
       "      <td>2023-01-03</td>\n",
       "      <td>1.830154</td>\n",
       "      <td>1.790054</td>\n",
       "      <td>1.825184</td>\n",
       "    </tr>\n",
       "    <tr>\n",
       "      <th>3</th>\n",
       "      <td>E10</td>\n",
       "      <td>2023-01-04</td>\n",
       "      <td>1.843688</td>\n",
       "      <td>1.830154</td>\n",
       "      <td>1.790054</td>\n",
       "    </tr>\n",
       "    <tr>\n",
       "      <th>4</th>\n",
       "      <td>E10</td>\n",
       "      <td>2023-01-05</td>\n",
       "      <td>1.850857</td>\n",
       "      <td>1.843688</td>\n",
       "      <td>1.830154</td>\n",
       "    </tr>\n",
       "    <tr>\n",
       "      <th>5</th>\n",
       "      <td>E10</td>\n",
       "      <td>2023-01-06</td>\n",
       "      <td>1.846891</td>\n",
       "      <td>1.850857</td>\n",
       "      <td>1.843688</td>\n",
       "    </tr>\n",
       "    <tr>\n",
       "      <th>6</th>\n",
       "      <td>E10</td>\n",
       "      <td>2023-01-07</td>\n",
       "      <td>1.851375</td>\n",
       "      <td>1.846891</td>\n",
       "      <td>1.850857</td>\n",
       "    </tr>\n",
       "  </tbody>\n",
       "</table>\n",
       "</div>"
      ],
      "text/plain": [
       "  gas_label       date     price  price_lag1  price_lag2\n",
       "2       E10 2023-01-03  1.830154    1.790054    1.825184\n",
       "3       E10 2023-01-04  1.843688    1.830154    1.790054\n",
       "4       E10 2023-01-05  1.850857    1.843688    1.830154\n",
       "5       E10 2023-01-06  1.846891    1.850857    1.843688\n",
       "6       E10 2023-01-07  1.851375    1.846891    1.850857"
      ]
     },
     "execution_count": 126,
     "metadata": {},
     "output_type": "execute_result"
    }
   ],
   "source": [
    "price_day_label_mean.head()"
   ]
  },
  {
   "cell_type": "code",
   "execution_count": 128,
   "id": "c15d53d0-7a7a-449c-aa73-30ce2a6a3114",
   "metadata": {},
   "outputs": [
    {
     "name": "stdout",
     "output_type": "stream",
     "text": [
      " Please enter the gas type: ['E10' 'E85' 'Gazole' 'SP98']\n"
     ]
    },
    {
     "name": "stdin",
     "output_type": "stream",
     "text": [
      " E10\n"
     ]
    }
   ],
   "source": [
    "#  Filter for a gas type (example: \"Gazole\")\n",
    "type_gas = price_day_label_mean['gas_label'].unique()\n",
    "print (f' Please enter the gas type: {type_gas}')\n",
    "gas = input ()\n",
    "key_data = price_day_label_mean[price_day_label_mean['gas_label'] == gas] #  Extract data for the type of gas concerned"
   ]
  },
  {
   "cell_type": "code",
   "execution_count": 130,
   "id": "c8dc1c1a-b198-4ce7-b1a6-3640d01366ae",
   "metadata": {},
   "outputs": [
    {
     "data": {
      "text/html": [
       "<div>\n",
       "<style scoped>\n",
       "    .dataframe tbody tr th:only-of-type {\n",
       "        vertical-align: middle;\n",
       "    }\n",
       "\n",
       "    .dataframe tbody tr th {\n",
       "        vertical-align: top;\n",
       "    }\n",
       "\n",
       "    .dataframe thead th {\n",
       "        text-align: right;\n",
       "    }\n",
       "</style>\n",
       "<table border=\"1\" class=\"dataframe\">\n",
       "  <thead>\n",
       "    <tr style=\"text-align: right;\">\n",
       "      <th></th>\n",
       "      <th>gas_label</th>\n",
       "      <th>date</th>\n",
       "      <th>price</th>\n",
       "      <th>price_lag1</th>\n",
       "      <th>price_lag2</th>\n",
       "    </tr>\n",
       "  </thead>\n",
       "  <tbody>\n",
       "    <tr>\n",
       "      <th>2</th>\n",
       "      <td>E10</td>\n",
       "      <td>2023-01-03</td>\n",
       "      <td>1.830154</td>\n",
       "      <td>1.790054</td>\n",
       "      <td>1.825184</td>\n",
       "    </tr>\n",
       "    <tr>\n",
       "      <th>3</th>\n",
       "      <td>E10</td>\n",
       "      <td>2023-01-04</td>\n",
       "      <td>1.843688</td>\n",
       "      <td>1.830154</td>\n",
       "      <td>1.790054</td>\n",
       "    </tr>\n",
       "    <tr>\n",
       "      <th>4</th>\n",
       "      <td>E10</td>\n",
       "      <td>2023-01-05</td>\n",
       "      <td>1.850857</td>\n",
       "      <td>1.843688</td>\n",
       "      <td>1.830154</td>\n",
       "    </tr>\n",
       "    <tr>\n",
       "      <th>5</th>\n",
       "      <td>E10</td>\n",
       "      <td>2023-01-06</td>\n",
       "      <td>1.846891</td>\n",
       "      <td>1.850857</td>\n",
       "      <td>1.843688</td>\n",
       "    </tr>\n",
       "    <tr>\n",
       "      <th>6</th>\n",
       "      <td>E10</td>\n",
       "      <td>2023-01-07</td>\n",
       "      <td>1.851375</td>\n",
       "      <td>1.846891</td>\n",
       "      <td>1.850857</td>\n",
       "    </tr>\n",
       "  </tbody>\n",
       "</table>\n",
       "</div>"
      ],
      "text/plain": [
       "  gas_label       date     price  price_lag1  price_lag2\n",
       "2       E10 2023-01-03  1.830154    1.790054    1.825184\n",
       "3       E10 2023-01-04  1.843688    1.830154    1.790054\n",
       "4       E10 2023-01-05  1.850857    1.843688    1.830154\n",
       "5       E10 2023-01-06  1.846891    1.850857    1.843688\n",
       "6       E10 2023-01-07  1.851375    1.846891    1.850857"
      ]
     },
     "execution_count": 130,
     "metadata": {},
     "output_type": "execute_result"
    }
   ],
   "source": [
    "key_data.head()"
   ]
  },
  {
   "cell_type": "code",
   "execution_count": 132,
   "id": "1b6fd222-1410-423a-ac8a-38bd01fed0d2",
   "metadata": {},
   "outputs": [],
   "source": [
    "#  Independent (X) and target (y) variables\n",
    "features = ['price_lag1', 'price_lag2']\n",
    "target = 'price'\n",
    "X = key_data[features]\n",
    "y = key_data[target]"
   ]
  },
  {
   "cell_type": "code",
   "execution_count": 134,
   "id": "89ff418e-5298-4748-a4a4-4d9325502717",
   "metadata": {},
   "outputs": [],
   "source": [
    "# Divide data into training and test sets\n",
    "X_train, X_test, y_train, y_test = train_test_split(X, y, test_size=0.2, random_state=42)"
   ]
  },
  {
   "cell_type": "code",
   "execution_count": 136,
   "id": "92c407d7-2ff3-4896-b9ca-b8e68d2f7b4e",
   "metadata": {},
   "outputs": [
    {
     "data": {
      "text/html": [
       "<div>\n",
       "<style scoped>\n",
       "    .dataframe tbody tr th:only-of-type {\n",
       "        vertical-align: middle;\n",
       "    }\n",
       "\n",
       "    .dataframe tbody tr th {\n",
       "        vertical-align: top;\n",
       "    }\n",
       "\n",
       "    .dataframe thead th {\n",
       "        text-align: right;\n",
       "    }\n",
       "</style>\n",
       "<table border=\"1\" class=\"dataframe\">\n",
       "  <thead>\n",
       "    <tr style=\"text-align: right;\">\n",
       "      <th></th>\n",
       "      <th>price_lag1</th>\n",
       "      <th>price_lag2</th>\n",
       "    </tr>\n",
       "  </thead>\n",
       "  <tbody>\n",
       "    <tr>\n",
       "      <th>211</th>\n",
       "      <td>1.902841</td>\n",
       "      <td>1.881894</td>\n",
       "    </tr>\n",
       "    <tr>\n",
       "      <th>340</th>\n",
       "      <td>1.806530</td>\n",
       "      <td>1.810536</td>\n",
       "    </tr>\n",
       "    <tr>\n",
       "      <th>359</th>\n",
       "      <td>1.806776</td>\n",
       "      <td>1.792932</td>\n",
       "    </tr>\n",
       "    <tr>\n",
       "      <th>77</th>\n",
       "      <td>1.900211</td>\n",
       "      <td>1.892714</td>\n",
       "    </tr>\n",
       "    <tr>\n",
       "      <th>86</th>\n",
       "      <td>1.906942</td>\n",
       "      <td>1.919708</td>\n",
       "    </tr>\n",
       "  </tbody>\n",
       "</table>\n",
       "</div>"
      ],
      "text/plain": [
       "     price_lag1  price_lag2\n",
       "211    1.902841    1.881894\n",
       "340    1.806530    1.810536\n",
       "359    1.806776    1.792932\n",
       "77     1.900211    1.892714\n",
       "86     1.906942    1.919708"
      ]
     },
     "execution_count": 136,
     "metadata": {},
     "output_type": "execute_result"
    }
   ],
   "source": [
    "X_train.head()"
   ]
  },
  {
   "cell_type": "code",
   "execution_count": 138,
   "id": "c6b855cf-a299-4cec-8fc9-87436611f947",
   "metadata": {},
   "outputs": [
    {
     "data": {
      "text/html": [
       "<style>#sk-container-id-1 {\n",
       "  /* Definition of color scheme common for light and dark mode */\n",
       "  --sklearn-color-text: black;\n",
       "  --sklearn-color-line: gray;\n",
       "  /* Definition of color scheme for unfitted estimators */\n",
       "  --sklearn-color-unfitted-level-0: #fff5e6;\n",
       "  --sklearn-color-unfitted-level-1: #f6e4d2;\n",
       "  --sklearn-color-unfitted-level-2: #ffe0b3;\n",
       "  --sklearn-color-unfitted-level-3: chocolate;\n",
       "  /* Definition of color scheme for fitted estimators */\n",
       "  --sklearn-color-fitted-level-0: #f0f8ff;\n",
       "  --sklearn-color-fitted-level-1: #d4ebff;\n",
       "  --sklearn-color-fitted-level-2: #b3dbfd;\n",
       "  --sklearn-color-fitted-level-3: cornflowerblue;\n",
       "\n",
       "  /* Specific color for light theme */\n",
       "  --sklearn-color-text-on-default-background: var(--sg-text-color, var(--theme-code-foreground, var(--jp-content-font-color1, black)));\n",
       "  --sklearn-color-background: var(--sg-background-color, var(--theme-background, var(--jp-layout-color0, white)));\n",
       "  --sklearn-color-border-box: var(--sg-text-color, var(--theme-code-foreground, var(--jp-content-font-color1, black)));\n",
       "  --sklearn-color-icon: #696969;\n",
       "\n",
       "  @media (prefers-color-scheme: dark) {\n",
       "    /* Redefinition of color scheme for dark theme */\n",
       "    --sklearn-color-text-on-default-background: var(--sg-text-color, var(--theme-code-foreground, var(--jp-content-font-color1, white)));\n",
       "    --sklearn-color-background: var(--sg-background-color, var(--theme-background, var(--jp-layout-color0, #111)));\n",
       "    --sklearn-color-border-box: var(--sg-text-color, var(--theme-code-foreground, var(--jp-content-font-color1, white)));\n",
       "    --sklearn-color-icon: #878787;\n",
       "  }\n",
       "}\n",
       "\n",
       "#sk-container-id-1 {\n",
       "  color: var(--sklearn-color-text);\n",
       "}\n",
       "\n",
       "#sk-container-id-1 pre {\n",
       "  padding: 0;\n",
       "}\n",
       "\n",
       "#sk-container-id-1 input.sk-hidden--visually {\n",
       "  border: 0;\n",
       "  clip: rect(1px 1px 1px 1px);\n",
       "  clip: rect(1px, 1px, 1px, 1px);\n",
       "  height: 1px;\n",
       "  margin: -1px;\n",
       "  overflow: hidden;\n",
       "  padding: 0;\n",
       "  position: absolute;\n",
       "  width: 1px;\n",
       "}\n",
       "\n",
       "#sk-container-id-1 div.sk-dashed-wrapped {\n",
       "  border: 1px dashed var(--sklearn-color-line);\n",
       "  margin: 0 0.4em 0.5em 0.4em;\n",
       "  box-sizing: border-box;\n",
       "  padding-bottom: 0.4em;\n",
       "  background-color: var(--sklearn-color-background);\n",
       "}\n",
       "\n",
       "#sk-container-id-1 div.sk-container {\n",
       "  /* jupyter's `normalize.less` sets `[hidden] { display: none; }`\n",
       "     but bootstrap.min.css set `[hidden] { display: none !important; }`\n",
       "     so we also need the `!important` here to be able to override the\n",
       "     default hidden behavior on the sphinx rendered scikit-learn.org.\n",
       "     See: https://github.com/scikit-learn/scikit-learn/issues/21755 */\n",
       "  display: inline-block !important;\n",
       "  position: relative;\n",
       "}\n",
       "\n",
       "#sk-container-id-1 div.sk-text-repr-fallback {\n",
       "  display: none;\n",
       "}\n",
       "\n",
       "div.sk-parallel-item,\n",
       "div.sk-serial,\n",
       "div.sk-item {\n",
       "  /* draw centered vertical line to link estimators */\n",
       "  background-image: linear-gradient(var(--sklearn-color-text-on-default-background), var(--sklearn-color-text-on-default-background));\n",
       "  background-size: 2px 100%;\n",
       "  background-repeat: no-repeat;\n",
       "  background-position: center center;\n",
       "}\n",
       "\n",
       "/* Parallel-specific style estimator block */\n",
       "\n",
       "#sk-container-id-1 div.sk-parallel-item::after {\n",
       "  content: \"\";\n",
       "  width: 100%;\n",
       "  border-bottom: 2px solid var(--sklearn-color-text-on-default-background);\n",
       "  flex-grow: 1;\n",
       "}\n",
       "\n",
       "#sk-container-id-1 div.sk-parallel {\n",
       "  display: flex;\n",
       "  align-items: stretch;\n",
       "  justify-content: center;\n",
       "  background-color: var(--sklearn-color-background);\n",
       "  position: relative;\n",
       "}\n",
       "\n",
       "#sk-container-id-1 div.sk-parallel-item {\n",
       "  display: flex;\n",
       "  flex-direction: column;\n",
       "}\n",
       "\n",
       "#sk-container-id-1 div.sk-parallel-item:first-child::after {\n",
       "  align-self: flex-end;\n",
       "  width: 50%;\n",
       "}\n",
       "\n",
       "#sk-container-id-1 div.sk-parallel-item:last-child::after {\n",
       "  align-self: flex-start;\n",
       "  width: 50%;\n",
       "}\n",
       "\n",
       "#sk-container-id-1 div.sk-parallel-item:only-child::after {\n",
       "  width: 0;\n",
       "}\n",
       "\n",
       "/* Serial-specific style estimator block */\n",
       "\n",
       "#sk-container-id-1 div.sk-serial {\n",
       "  display: flex;\n",
       "  flex-direction: column;\n",
       "  align-items: center;\n",
       "  background-color: var(--sklearn-color-background);\n",
       "  padding-right: 1em;\n",
       "  padding-left: 1em;\n",
       "}\n",
       "\n",
       "\n",
       "/* Toggleable style: style used for estimator/Pipeline/ColumnTransformer box that is\n",
       "clickable and can be expanded/collapsed.\n",
       "- Pipeline and ColumnTransformer use this feature and define the default style\n",
       "- Estimators will overwrite some part of the style using the `sk-estimator` class\n",
       "*/\n",
       "\n",
       "/* Pipeline and ColumnTransformer style (default) */\n",
       "\n",
       "#sk-container-id-1 div.sk-toggleable {\n",
       "  /* Default theme specific background. It is overwritten whether we have a\n",
       "  specific estimator or a Pipeline/ColumnTransformer */\n",
       "  background-color: var(--sklearn-color-background);\n",
       "}\n",
       "\n",
       "/* Toggleable label */\n",
       "#sk-container-id-1 label.sk-toggleable__label {\n",
       "  cursor: pointer;\n",
       "  display: block;\n",
       "  width: 100%;\n",
       "  margin-bottom: 0;\n",
       "  padding: 0.5em;\n",
       "  box-sizing: border-box;\n",
       "  text-align: center;\n",
       "}\n",
       "\n",
       "#sk-container-id-1 label.sk-toggleable__label-arrow:before {\n",
       "  /* Arrow on the left of the label */\n",
       "  content: \"▸\";\n",
       "  float: left;\n",
       "  margin-right: 0.25em;\n",
       "  color: var(--sklearn-color-icon);\n",
       "}\n",
       "\n",
       "#sk-container-id-1 label.sk-toggleable__label-arrow:hover:before {\n",
       "  color: var(--sklearn-color-text);\n",
       "}\n",
       "\n",
       "/* Toggleable content - dropdown */\n",
       "\n",
       "#sk-container-id-1 div.sk-toggleable__content {\n",
       "  max-height: 0;\n",
       "  max-width: 0;\n",
       "  overflow: hidden;\n",
       "  text-align: left;\n",
       "  /* unfitted */\n",
       "  background-color: var(--sklearn-color-unfitted-level-0);\n",
       "}\n",
       "\n",
       "#sk-container-id-1 div.sk-toggleable__content.fitted {\n",
       "  /* fitted */\n",
       "  background-color: var(--sklearn-color-fitted-level-0);\n",
       "}\n",
       "\n",
       "#sk-container-id-1 div.sk-toggleable__content pre {\n",
       "  margin: 0.2em;\n",
       "  border-radius: 0.25em;\n",
       "  color: var(--sklearn-color-text);\n",
       "  /* unfitted */\n",
       "  background-color: var(--sklearn-color-unfitted-level-0);\n",
       "}\n",
       "\n",
       "#sk-container-id-1 div.sk-toggleable__content.fitted pre {\n",
       "  /* unfitted */\n",
       "  background-color: var(--sklearn-color-fitted-level-0);\n",
       "}\n",
       "\n",
       "#sk-container-id-1 input.sk-toggleable__control:checked~div.sk-toggleable__content {\n",
       "  /* Expand drop-down */\n",
       "  max-height: 200px;\n",
       "  max-width: 100%;\n",
       "  overflow: auto;\n",
       "}\n",
       "\n",
       "#sk-container-id-1 input.sk-toggleable__control:checked~label.sk-toggleable__label-arrow:before {\n",
       "  content: \"▾\";\n",
       "}\n",
       "\n",
       "/* Pipeline/ColumnTransformer-specific style */\n",
       "\n",
       "#sk-container-id-1 div.sk-label input.sk-toggleable__control:checked~label.sk-toggleable__label {\n",
       "  color: var(--sklearn-color-text);\n",
       "  background-color: var(--sklearn-color-unfitted-level-2);\n",
       "}\n",
       "\n",
       "#sk-container-id-1 div.sk-label.fitted input.sk-toggleable__control:checked~label.sk-toggleable__label {\n",
       "  background-color: var(--sklearn-color-fitted-level-2);\n",
       "}\n",
       "\n",
       "/* Estimator-specific style */\n",
       "\n",
       "/* Colorize estimator box */\n",
       "#sk-container-id-1 div.sk-estimator input.sk-toggleable__control:checked~label.sk-toggleable__label {\n",
       "  /* unfitted */\n",
       "  background-color: var(--sklearn-color-unfitted-level-2);\n",
       "}\n",
       "\n",
       "#sk-container-id-1 div.sk-estimator.fitted input.sk-toggleable__control:checked~label.sk-toggleable__label {\n",
       "  /* fitted */\n",
       "  background-color: var(--sklearn-color-fitted-level-2);\n",
       "}\n",
       "\n",
       "#sk-container-id-1 div.sk-label label.sk-toggleable__label,\n",
       "#sk-container-id-1 div.sk-label label {\n",
       "  /* The background is the default theme color */\n",
       "  color: var(--sklearn-color-text-on-default-background);\n",
       "}\n",
       "\n",
       "/* On hover, darken the color of the background */\n",
       "#sk-container-id-1 div.sk-label:hover label.sk-toggleable__label {\n",
       "  color: var(--sklearn-color-text);\n",
       "  background-color: var(--sklearn-color-unfitted-level-2);\n",
       "}\n",
       "\n",
       "/* Label box, darken color on hover, fitted */\n",
       "#sk-container-id-1 div.sk-label.fitted:hover label.sk-toggleable__label.fitted {\n",
       "  color: var(--sklearn-color-text);\n",
       "  background-color: var(--sklearn-color-fitted-level-2);\n",
       "}\n",
       "\n",
       "/* Estimator label */\n",
       "\n",
       "#sk-container-id-1 div.sk-label label {\n",
       "  font-family: monospace;\n",
       "  font-weight: bold;\n",
       "  display: inline-block;\n",
       "  line-height: 1.2em;\n",
       "}\n",
       "\n",
       "#sk-container-id-1 div.sk-label-container {\n",
       "  text-align: center;\n",
       "}\n",
       "\n",
       "/* Estimator-specific */\n",
       "#sk-container-id-1 div.sk-estimator {\n",
       "  font-family: monospace;\n",
       "  border: 1px dotted var(--sklearn-color-border-box);\n",
       "  border-radius: 0.25em;\n",
       "  box-sizing: border-box;\n",
       "  margin-bottom: 0.5em;\n",
       "  /* unfitted */\n",
       "  background-color: var(--sklearn-color-unfitted-level-0);\n",
       "}\n",
       "\n",
       "#sk-container-id-1 div.sk-estimator.fitted {\n",
       "  /* fitted */\n",
       "  background-color: var(--sklearn-color-fitted-level-0);\n",
       "}\n",
       "\n",
       "/* on hover */\n",
       "#sk-container-id-1 div.sk-estimator:hover {\n",
       "  /* unfitted */\n",
       "  background-color: var(--sklearn-color-unfitted-level-2);\n",
       "}\n",
       "\n",
       "#sk-container-id-1 div.sk-estimator.fitted:hover {\n",
       "  /* fitted */\n",
       "  background-color: var(--sklearn-color-fitted-level-2);\n",
       "}\n",
       "\n",
       "/* Specification for estimator info (e.g. \"i\" and \"?\") */\n",
       "\n",
       "/* Common style for \"i\" and \"?\" */\n",
       "\n",
       ".sk-estimator-doc-link,\n",
       "a:link.sk-estimator-doc-link,\n",
       "a:visited.sk-estimator-doc-link {\n",
       "  float: right;\n",
       "  font-size: smaller;\n",
       "  line-height: 1em;\n",
       "  font-family: monospace;\n",
       "  background-color: var(--sklearn-color-background);\n",
       "  border-radius: 1em;\n",
       "  height: 1em;\n",
       "  width: 1em;\n",
       "  text-decoration: none !important;\n",
       "  margin-left: 1ex;\n",
       "  /* unfitted */\n",
       "  border: var(--sklearn-color-unfitted-level-1) 1pt solid;\n",
       "  color: var(--sklearn-color-unfitted-level-1);\n",
       "}\n",
       "\n",
       ".sk-estimator-doc-link.fitted,\n",
       "a:link.sk-estimator-doc-link.fitted,\n",
       "a:visited.sk-estimator-doc-link.fitted {\n",
       "  /* fitted */\n",
       "  border: var(--sklearn-color-fitted-level-1) 1pt solid;\n",
       "  color: var(--sklearn-color-fitted-level-1);\n",
       "}\n",
       "\n",
       "/* On hover */\n",
       "div.sk-estimator:hover .sk-estimator-doc-link:hover,\n",
       ".sk-estimator-doc-link:hover,\n",
       "div.sk-label-container:hover .sk-estimator-doc-link:hover,\n",
       ".sk-estimator-doc-link:hover {\n",
       "  /* unfitted */\n",
       "  background-color: var(--sklearn-color-unfitted-level-3);\n",
       "  color: var(--sklearn-color-background);\n",
       "  text-decoration: none;\n",
       "}\n",
       "\n",
       "div.sk-estimator.fitted:hover .sk-estimator-doc-link.fitted:hover,\n",
       ".sk-estimator-doc-link.fitted:hover,\n",
       "div.sk-label-container:hover .sk-estimator-doc-link.fitted:hover,\n",
       ".sk-estimator-doc-link.fitted:hover {\n",
       "  /* fitted */\n",
       "  background-color: var(--sklearn-color-fitted-level-3);\n",
       "  color: var(--sklearn-color-background);\n",
       "  text-decoration: none;\n",
       "}\n",
       "\n",
       "/* Span, style for the box shown on hovering the info icon */\n",
       ".sk-estimator-doc-link span {\n",
       "  display: none;\n",
       "  z-index: 9999;\n",
       "  position: relative;\n",
       "  font-weight: normal;\n",
       "  right: .2ex;\n",
       "  padding: .5ex;\n",
       "  margin: .5ex;\n",
       "  width: min-content;\n",
       "  min-width: 20ex;\n",
       "  max-width: 50ex;\n",
       "  color: var(--sklearn-color-text);\n",
       "  box-shadow: 2pt 2pt 4pt #999;\n",
       "  /* unfitted */\n",
       "  background: var(--sklearn-color-unfitted-level-0);\n",
       "  border: .5pt solid var(--sklearn-color-unfitted-level-3);\n",
       "}\n",
       "\n",
       ".sk-estimator-doc-link.fitted span {\n",
       "  /* fitted */\n",
       "  background: var(--sklearn-color-fitted-level-0);\n",
       "  border: var(--sklearn-color-fitted-level-3);\n",
       "}\n",
       "\n",
       ".sk-estimator-doc-link:hover span {\n",
       "  display: block;\n",
       "}\n",
       "\n",
       "/* \"?\"-specific style due to the `<a>` HTML tag */\n",
       "\n",
       "#sk-container-id-1 a.estimator_doc_link {\n",
       "  float: right;\n",
       "  font-size: 1rem;\n",
       "  line-height: 1em;\n",
       "  font-family: monospace;\n",
       "  background-color: var(--sklearn-color-background);\n",
       "  border-radius: 1rem;\n",
       "  height: 1rem;\n",
       "  width: 1rem;\n",
       "  text-decoration: none;\n",
       "  /* unfitted */\n",
       "  color: var(--sklearn-color-unfitted-level-1);\n",
       "  border: var(--sklearn-color-unfitted-level-1) 1pt solid;\n",
       "}\n",
       "\n",
       "#sk-container-id-1 a.estimator_doc_link.fitted {\n",
       "  /* fitted */\n",
       "  border: var(--sklearn-color-fitted-level-1) 1pt solid;\n",
       "  color: var(--sklearn-color-fitted-level-1);\n",
       "}\n",
       "\n",
       "/* On hover */\n",
       "#sk-container-id-1 a.estimator_doc_link:hover {\n",
       "  /* unfitted */\n",
       "  background-color: var(--sklearn-color-unfitted-level-3);\n",
       "  color: var(--sklearn-color-background);\n",
       "  text-decoration: none;\n",
       "}\n",
       "\n",
       "#sk-container-id-1 a.estimator_doc_link.fitted:hover {\n",
       "  /* fitted */\n",
       "  background-color: var(--sklearn-color-fitted-level-3);\n",
       "}\n",
       "</style><div id=\"sk-container-id-1\" class=\"sk-top-container\"><div class=\"sk-text-repr-fallback\"><pre>Pipeline(steps=[(&#x27;reduce_dim&#x27;, PCA()), (&#x27;regressor&#x27;, LinearRegression())])</pre><b>In a Jupyter environment, please rerun this cell to show the HTML representation or trust the notebook. <br />On GitHub, the HTML representation is unable to render, please try loading this page with nbviewer.org.</b></div><div class=\"sk-container\" hidden><div class=\"sk-item sk-dashed-wrapped\"><div class=\"sk-label-container\"><div class=\"sk-label fitted sk-toggleable\"><input class=\"sk-toggleable__control sk-hidden--visually\" id=\"sk-estimator-id-1\" type=\"checkbox\" ><label for=\"sk-estimator-id-1\" class=\"sk-toggleable__label fitted sk-toggleable__label-arrow fitted\">&nbsp;&nbsp;Pipeline<a class=\"sk-estimator-doc-link fitted\" rel=\"noreferrer\" target=\"_blank\" href=\"https://scikit-learn.org/1.4/modules/generated/sklearn.pipeline.Pipeline.html\">?<span>Documentation for Pipeline</span></a><span class=\"sk-estimator-doc-link fitted\">i<span>Fitted</span></span></label><div class=\"sk-toggleable__content fitted\"><pre>Pipeline(steps=[(&#x27;reduce_dim&#x27;, PCA()), (&#x27;regressor&#x27;, LinearRegression())])</pre></div> </div></div><div class=\"sk-serial\"><div class=\"sk-item\"><div class=\"sk-estimator fitted sk-toggleable\"><input class=\"sk-toggleable__control sk-hidden--visually\" id=\"sk-estimator-id-2\" type=\"checkbox\" ><label for=\"sk-estimator-id-2\" class=\"sk-toggleable__label fitted sk-toggleable__label-arrow fitted\">&nbsp;PCA<a class=\"sk-estimator-doc-link fitted\" rel=\"noreferrer\" target=\"_blank\" href=\"https://scikit-learn.org/1.4/modules/generated/sklearn.decomposition.PCA.html\">?<span>Documentation for PCA</span></a></label><div class=\"sk-toggleable__content fitted\"><pre>PCA()</pre></div> </div></div><div class=\"sk-item\"><div class=\"sk-estimator fitted sk-toggleable\"><input class=\"sk-toggleable__control sk-hidden--visually\" id=\"sk-estimator-id-3\" type=\"checkbox\" ><label for=\"sk-estimator-id-3\" class=\"sk-toggleable__label fitted sk-toggleable__label-arrow fitted\">&nbsp;LinearRegression<a class=\"sk-estimator-doc-link fitted\" rel=\"noreferrer\" target=\"_blank\" href=\"https://scikit-learn.org/1.4/modules/generated/sklearn.linear_model.LinearRegression.html\">?<span>Documentation for LinearRegression</span></a></label><div class=\"sk-toggleable__content fitted\"><pre>LinearRegression()</pre></div> </div></div></div></div></div></div>"
      ],
      "text/plain": [
       "Pipeline(steps=[('reduce_dim', PCA()), ('regressor', LinearRegression())])"
      ]
     },
     "execution_count": 138,
     "metadata": {},
     "output_type": "execute_result"
    }
   ],
   "source": [
    "#  Define pipeline stages\n",
    "estimators = [\n",
    "    ('reduce_dim', PCA()),  # reduction of  dimension \n",
    "    ('regressor', LinearRegression())    #  Linear Regression Model\n",
    "]\n",
    "\n",
    "#  Creating the pipeline\n",
    "pipe = Pipeline(estimators)\n",
    "\n",
    "#  Adjusting the pipeline on training data\n",
    "pipe.fit(X_train, y_train)"
   ]
  },
  {
   "cell_type": "code",
   "execution_count": 140,
   "id": "43d3551f-ff7a-4604-a59e-fb4e0e9bce8e",
   "metadata": {},
   "outputs": [],
   "source": [
    "#  Test Set Predictions\n",
    "y_predt = pipe.predict(X_test)"
   ]
  },
  {
   "cell_type": "markdown",
   "id": "2ec06f62-320b-4ec0-bed6-b9f8f5f59698",
   "metadata": {},
   "source": [
    "**Provide precision measurements and a scatter plot**"
   ]
  },
  {
   "cell_type": "code",
   "execution_count": 142,
   "id": "b3438633-8779-4a67-a8e8-ff4f9d623f9d",
   "metadata": {},
   "outputs": [
    {
     "name": "stdout",
     "output_type": "stream",
     "text": [
      "  metric  Test set\n",
      "0    MAE  0.011352\n",
      "1    MSE  0.000213\n",
      "2   RMSE  0.014584\n",
      "3     R²  0.910946\n",
      "\n",
      " MAE: Mean Absolute Error\n",
      "MSE: Mean Squared Error\n",
      "RMSE: Root Mean Squared Error\n",
      "R²: Mean Absolute Error\n"
     ]
    }
   ],
   "source": [
    "#  Calculate performance metrics on the test set\n",
    "test_mae = mean_absolute_error(y_test, y_predt)\n",
    "test_mse = mean_squared_error(y_test, y_predt)\n",
    "test_rmse = root_mean_squared_error(y_test, y_predt)\n",
    "test_r2 = r2_score(y_test, y_predt)\n",
    "\n",
    "\n",
    "#  Create a DataFrame to Display Performance Metrics\n",
    "performance_df = pd.DataFrame({\n",
    "    'metric': ['MAE', 'MSE', 'RMSE', 'R²'],\n",
    "    'Test set': [test_mae, test_mse, test_rmse, test_r2]\n",
    "})\n",
    "\n",
    "print(performance_df)\n",
    "\n",
    "print(\"\\n MAE: Mean Absolute Error\")\n",
    "print(\"MSE: Mean Squared Error\")\n",
    "print(\"RMSE: Root Mean Squared Error\")\n",
    "print(\"R²: Mean Absolute Error\")"
   ]
  },
  {
   "cell_type": "markdown",
   "id": "d2e76630-be7b-4f87-bc15-7fdf6a77c463",
   "metadata": {},
   "source": [
    "**Plot a scatter plot of real vs. predicted values:**"
   ]
  },
  {
   "cell_type": "code",
   "execution_count": 144,
   "id": "5bc343bc-43ea-4d7f-909a-8c70463bcd07",
   "metadata": {},
   "outputs": [
    {
     "data": {
      "image/png": "[encoded data removed]",
      "text/plain": [
       "<Figure size 800x600 with 1 Axes>"
      ]
     },
     "metadata": {},
     "output_type": "display_data"
    }
   ],
   "source": [
    "# Scatter Chart\n",
    "plt.figure(figsize=(8, 6))\n",
    "plt.scatter(y_test, y_predt, color='blue', alpha=0.6, label='Predictions')  # Dispersion Points\n",
    "plt.plot([min(y_test), max(y_test)], [min(y_test), max(y_test)], color='red', linestyle='--', label='Ideal line (y=x)')  # Line y=x\n",
    "plt.title('Scatter Chart: Real vs Predicted Prices')\n",
    "plt.xlabel('Real Prices')\n",
    "plt.ylabel('Predicted prices')\n",
    "plt.legend()\n",
    "plt.grid(alpha=0.3)\n",
    "plt.show()"
   ]
  },
  {
   "cell_type": "code",
   "execution_count": 146,
   "id": "8e3b8b81-5d2f-4cf9-99eb-f4ee3c2421ee",
   "metadata": {},
   "outputs": [
    {
     "data": {
      "text/plain": [
       "'3.12.4 | packaged by Anaconda, Inc. | (main, Jun 18 2024, 15:03:56) [MSC v.1929 64 bit (AMD64)]'"
      ]
     },
     "execution_count": 146,
     "metadata": {},
     "output_type": "execute_result"
    }
   ],
   "source": [
    "# information sesion \n",
    "import sys\n",
    "sys.version"
   ]
  }
 ],
 "metadata": {
  "kernelspec": {
   "display_name": "Python 3 (ipykernel)",
   "language": "python",
   "name": "python3"
  },
  "language_info": {
   "codemirror_mode": {
    "name": "ipython",
    "version": 3
   },
   "file_extension": ".py",
   "mimetype": "text/x-python",
   "name": "python",
   "nbconvert_exporter": "python",
   "pygments_lexer": "ipython3",
   "version": "3.12.4"
  }
 },
 "nbformat": 4,
 "nbformat_minor": 5
}
